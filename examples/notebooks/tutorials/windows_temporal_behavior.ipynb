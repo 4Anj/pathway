{
  "cells": [
    {
      "cell_type": "markdown",
      "metadata": {
        "id": "view-in-colab"
      },
      "source": [
        "<a href=\"https://colab.research.google.com/github/pathwaycom/pathway/blob/main/examples/notebooks/tutorials/windows_temporal_behavior.ipynb\" target=\"_parent\"><img src=\"https://pathway.com/assets/colab-badge.svg\" alt=\"Run In Colab\" class=\"inline\"/></a>"
      ]
    },
    {
      "cell_type": "markdown",
      "source": [
        "# Installing Pathway with Python 3.10+\n",
        "\n",
        "In the cell below, we install Pathway into a Python 3.10+ Linux runtime.\n",
        "\n",
        "> **If you are running in Google Colab, please run the colab notebook (Ctrl+F9)**, disregarding the 'not authored by Google' warning.\n",
        "> \n",
        "> **The installation and loading time is less than 1 minute**.\n"
      ],
      "metadata": {
        "id": "notebook-instructions"
      }
    },
    {
      "cell_type": "code",
      "source": [
        "%%capture --no-display\n",
        "!pip install --prefer-binary pathway"
      ],
      "metadata": {
        "id": "pip-installation-pathway",
        "cellView": "form"
      },
      "execution_count": null,
      "outputs": []
    },
    {
      "cell_type": "markdown",
      "id": "bf57044e",
      "metadata": {},
      "source": [
        "# Controlling temporal behavior of windows"
      ]
    },
    {
      "cell_type": "markdown",
      "id": "429f9ac3",
      "metadata": {},
      "source": [
        "In this article you will learn how to use windows effectively, by specifying their temporal behaviors."
      ]
    },
    {
      "cell_type": "markdown",
      "id": "7a6d8942",
      "metadata": {},
      "source": [
        "Temporal behaviors in Pathway are crucial for bounding memory consumption, maintaining proper tradeoff between latency and efficiency, or adjusting windows for your needs. To read more about behaviors and the motivation behind them read our [guide](/developers/user-guide/temporal-data/behaviors/). This article goes into detail on how to define the behavior using `common_behavior` and `exactly_once_behavior` and what impact they have on the result of [windows](/developers/user-guide/temporal-data/windows-manual)."
      ]
    },
    {
      "cell_type": "markdown",
      "id": "eb29f279",
      "metadata": {},
      "source": [
        "The examples in this article use the sliding windows, but you can also use behaviors with tumbling windows."
      ]
    },
    {
      "cell_type": "markdown",
      "id": "3b37cfdd",
      "metadata": {},
      "source": [
        "## Event Time vs Processing Time"
      ]
    },
    {
      "cell_type": "markdown",
      "id": "d76de68e",
      "metadata": {},
      "source": [
        "In the context of temporal behavior it is important to distinguish between an event time and a processing time. The event time is when the event happens, e.g. if your data are orders in the online shop, the event time is the time when the order happened. This information has to be present in your data because Pathway doesn't know when the event happened. Thus event time can be any time you assign to your data.\n",
        "\n",
        "The only time Pathway is aware of is when the record arrives to the Pathway engine. This time is called processing time. While the processing time of entries in a stream is always nondecreasing (because the time goes forward), due to latency the event time may be out of order.  In extreme cases, this can manifest via events with _high_ latency between their event time and processing time, which we shortly call _late data_.\n",
        "\n",
        "When grouping data in windows, you usually want to consider the event time, and the temporal behavior is based on it, but the order in which the events are processed impacts the results."
      ]
    },
    {
      "cell_type": "markdown",
      "id": "ba009bb4",
      "metadata": {},
      "source": [
        "![Event time vs processing time](https://pathway.com/assets/content/documentation/behavior-guide/event-time-vs-processing-time.svg)"
      ]
    },
    {
      "cell_type": "markdown",
      "id": "bdd77ceb",
      "metadata": {},
      "source": [
        "<!-- canva link: https://www.canva.com/design/DAF3tvptQG4/TGTqc9sHoWUrDHYs5bP_dg/edit-->"
      ]
    },
    {
      "cell_type": "markdown",
      "id": "6ec1a538",
      "metadata": {},
      "source": [
        "## Dataset"
      ]
    },
    {
      "cell_type": "markdown",
      "id": "8ab1b373",
      "metadata": {},
      "source": [
        "To try out the temporal behaviors of windows you need an example Pathway Table with both processing time and event time. You can generate it using `pw.debug.table_from_markdown`, which takes a table specification in markdown format. If it has a column named `__time__`, Pathway will use it as a processing time, which allows you to see how the temporality of your data affects the outcome of the computation. The following code creates a table with logs. Other than the `__time__` column, it also has the `event_time`, which says when the event described by the log happened, and the `message` column. In this case, both `__time__` and `event_time` are given as timestamps.\n",
        "\n",
        "Remarks:\n",
        "- while the processing time for the `table_from_markdown` method always needs to be given as a timestamp, the event_time can be any of [various types that are supported by the windowing mechanism](/developers/api-docs/pathway-stdlib-temporal/#pathway.stdlib.temporal.windowby)\n",
        "- the `table_from_markdown` method needs the processing time to be passed in a column with a special name `__time__`, but the column holding event_time is passed as a parameter to the [`windowby`](/developers/api-docs/pathway-stdlib-temporal/#pathway.stdlib.temporal.windowby) function, and here it is called event_time just to keep the example self-explanatory."
      ]
    },
    {
      "cell_type": "code",
      "execution_count": 1,
      "id": "847f107d",
      "metadata": {
        "execution": {
          "iopub.execute_input": "2024-04-19T11:32:49.127056Z",
          "iopub.status.busy": "2024-04-19T11:32:49.126780Z",
          "iopub.status.idle": "2024-04-19T11:32:55.380348Z",
          "shell.execute_reply": "2024-04-19T11:32:55.379819Z"
        }
      },
      "outputs": [],
      "source": [
        "import pathway as pw"
      ]
    },
    {
      "cell_type": "code",
      "execution_count": 2,
      "id": "7c3a61a1",
      "metadata": {
        "execution": {
          "iopub.execute_input": "2024-04-19T11:32:55.382741Z",
          "iopub.status.busy": "2024-04-19T11:32:55.382261Z",
          "iopub.status.idle": "2024-04-19T11:32:55.394706Z",
          "shell.execute_reply": "2024-04-19T11:32:55.394347Z"
        }
      },
      "outputs": [],
      "source": [
        "t = pw.debug.table_from_markdown(\n",
        "    \"\"\"\n",
        "    event_time  |           message                | __time__\n",
        "      360       | Processing_started               |   362\n",
        "      362       | Task_completed_successfully      |   362\n",
        "      366       | Error_occurred_during_processing |   368\n",
        "      370       | Data_received_from_sensor        |   410\n",
        "      370       | Database_connection_established  |   370\n",
        "      370       | File_saved_successfully          |   372\n",
        "      372       | Processing_completed             |   374\n",
        "      376       | Request_received_from_user       |   396\n",
        "      382       | Task_in_progress                 |   382\n",
        "      382       | Warning_Low_memory               |   392\n",
        "\"\"\"\n",
        ")"
      ]
    },
    {
      "cell_type": "markdown",
      "id": "36bdba86",
      "metadata": {},
      "source": [
        "Consider the following example scenario - you are given the table as defined above, and you need to count the number of logs that fall into 10-second windows, with windows starting every 4 seconds.\n",
        "\n",
        "To that end, you can use sliding windows. To keep things simple, start with a piece of code that only groups data into windows, without specifying temporal behaviors. As you can see in the code snippet below, you can do that using `windowby` with `sliding` window of `duration` set to 10 and `hop` set to 4. For the result, keep information about the start and the end of each window and the number of logs that are in those windows."
      ]
    },
    {
      "cell_type": "code",
      "execution_count": 3,
      "id": "874eb785",
      "metadata": {
        "execution": {
          "iopub.execute_input": "2024-04-19T11:32:55.396316Z",
          "iopub.status.busy": "2024-04-19T11:32:55.396169Z",
          "iopub.status.idle": "2024-04-19T11:32:55.493774Z",
          "shell.execute_reply": "2024-04-19T11:32:55.493427Z"
        }
      },
      "outputs": [],
      "source": [
        "result = t.windowby(\n",
        "    t.event_time,\n",
        "    window=pw.temporal.sliding(duration=10, hop=4),\n",
        ").reduce(\n",
        "    window_start=pw.this._pw_window_start,\n",
        "    window_end=pw.this._pw_window_end,\n",
        "    n_logs=pw.reducers.count(),\n",
        ")"
      ]
    },
    {
      "cell_type": "markdown",
      "id": "542b39d8",
      "metadata": {},
      "source": [
        "When you use [`pw.debug_compute_and_print`](/developers/api-docs/debug/#pathway.debug.compute_and_print) to print the results, you will only get the final result, after all input rows are processed."
      ]
    },
    {
      "cell_type": "code",
      "execution_count": 4,
      "id": "d14fc5e8",
      "metadata": {
        "execution": {
          "iopub.execute_input": "2024-04-19T11:32:55.495457Z",
          "iopub.status.busy": "2024-04-19T11:32:55.495318Z",
          "iopub.status.idle": "2024-04-19T11:32:55.599654Z",
          "shell.execute_reply": "2024-04-19T11:32:55.599187Z"
        }
      },
      "outputs": [
        {
          "name": "stderr",
          "output_type": "stream",
          "text": [
            "[2024-04-19T13:32:55]:INFO:Preparing Pathway computation\n"
          ]
        },
        {
          "name": "stdout",
          "output_type": "stream",
          "text": [
            "            | window_start | window_end | n_logs\n",
            "^Y8PEAZV... | 352          | 362        | 1\n",
            "^YFKEFV6... | 356          | 366        | 2\n",
            "^DX546QX... | 360          | 370        | 3\n",
            "^B5NPNV8... | 364          | 374        | 5\n",
            "^VRT1YTS... | 368          | 378        | 5\n",
            "^QE3WQ0X... | 372          | 382        | 2\n",
            "^XJDDRJ0... | 376          | 386        | 3\n",
            "^R0SM1CF... | 380          | 390        | 2\n"
          ]
        }
      ],
      "source": [
        "pw.debug.compute_and_print(result)"
      ]
    },
    {
      "cell_type": "markdown",
      "id": "762dd868",
      "metadata": {},
      "source": [
        "To understand how the result changed when new rows were processed, it is useful to use [`pw.debug.compute_and_print_update_stream`](/developers/api-docs/debug/#pathway.debug.compute_and_print_update_stream) function. It shows you every change made to the Table, with column `__diff__` denoting whether the row was added or removed."
      ]
    },
    {
      "cell_type": "code",
      "execution_count": 5,
      "id": "3b49beed",
      "metadata": {
        "execution": {
          "iopub.execute_input": "2024-04-19T11:32:55.601212Z",
          "iopub.status.busy": "2024-04-19T11:32:55.601060Z",
          "iopub.status.idle": "2024-04-19T11:32:55.615807Z",
          "shell.execute_reply": "2024-04-19T11:32:55.615423Z"
        }
      },
      "outputs": [
        {
          "name": "stderr",
          "output_type": "stream",
          "text": [
            "[2024-04-19T13:32:55]:INFO:Preparing Pathway computation\n"
          ]
        },
        {
          "name": "stdout",
          "output_type": "stream",
          "text": [
            "            | window_start | window_end | n_logs | __time__ | __diff__\n",
            "^Y8PEAZV... | 352          | 362        | 1      | 362      | 1\n",
            "^YFKEFV6... | 356          | 366        | 2      | 362      | 1\n",
            "^DX546QX... | 360          | 370        | 2      | 362      | 1\n",
            "^DX546QX... | 360          | 370        | 2      | 368      | -1\n",
            "^DX546QX... | 360          | 370        | 3      | 368      | 1\n",
            "^B5NPNV8... | 364          | 374        | 1      | 368      | 1\n",
            "^B5NPNV8... | 364          | 374        | 1      | 370      | -1\n",
            "^B5NPNV8... | 364          | 374        | 2      | 370      | 1\n",
            "^VRT1YTS... | 368          | 378        | 1      | 370      | 1\n",
            "^B5NPNV8... | 364          | 374        | 2      | 372      | -1\n",
            "^VRT1YTS... | 368          | 378        | 1      | 372      | -1\n",
            "^B5NPNV8... | 364          | 374        | 3      | 372      | 1\n",
            "^VRT1YTS... | 368          | 378        | 2      | 372      | 1\n",
            "^B5NPNV8... | 364          | 374        | 3      | 374      | -1\n",
            "^VRT1YTS... | 368          | 378        | 2      | 374      | -1\n",
            "^B5NPNV8... | 364          | 374        | 4      | 374      | 1\n",
            "^VRT1YTS... | 368          | 378        | 3      | 374      | 1\n",
            "^QE3WQ0X... | 372          | 382        | 1      | 374      | 1\n",
            "^XJDDRJ0... | 376          | 386        | 1      | 382      | 1\n",
            "^R0SM1CF... | 380          | 390        | 1      | 382      | 1\n",
            "^XJDDRJ0... | 376          | 386        | 1      | 392      | -1\n",
            "^R0SM1CF... | 380          | 390        | 1      | 392      | -1\n",
            "^XJDDRJ0... | 376          | 386        | 2      | 392      | 1\n",
            "^R0SM1CF... | 380          | 390        | 2      | 392      | 1\n",
            "^VRT1YTS... | 368          | 378        | 3      | 396      | -1\n",
            "^QE3WQ0X... | 372          | 382        | 1      | 396      | -1\n",
            "^XJDDRJ0... | 376          | 386        | 2      | 396      | -1\n",
            "^VRT1YTS... | 368          | 378        | 4      | 396      | 1\n",
            "^QE3WQ0X... | 372          | 382        | 2      | 396      | 1\n",
            "^XJDDRJ0... | 376          | 386        | 3      | 396      | 1\n",
            "^B5NPNV8... | 364          | 374        | 4      | 410      | -1\n",
            "^VRT1YTS... | 368          | 378        | 4      | 410      | -1\n",
            "^B5NPNV8... | 364          | 374        | 5      | 410      | 1\n",
            "^VRT1YTS... | 368          | 378        | 5      | 410      | 1\n"
          ]
        }
      ],
      "source": [
        "pw.debug.compute_and_print_update_stream(result)"
      ]
    },
    {
      "cell_type": "markdown",
      "id": "1a1d3f09",
      "metadata": {},
      "source": [
        "## What time is it?"
      ]
    },
    {
      "cell_type": "markdown",
      "id": "36f8d418",
      "metadata": {},
      "source": [
        "The behaviors depend on the \"current time\" of an operator, in this article denoted as _now_. It is defined as the maximum already seen time by an operator in the already processed data (when a new batch of data arrives it is processed using the value of _now_ obtained from previous batches). In the context of windows, this time is taken from the column you use for grouping data in windows - usually event time. For example, `delay` sets a shift in time, and the window will be computed once _now_ is at least `delay` after the beginning of the window."
      ]
    },
    {
      "cell_type": "markdown",
      "id": "c5824fa4",
      "metadata": {},
      "source": [
        "## Common Behavior"
      ]
    },
    {
      "cell_type": "markdown",
      "id": "a1ec0dd3",
      "metadata": {},
      "source": [
        "The general way to define temporal behaviors in Pathway is by using `pw.temporal.common_behavior`. It allows you to set `delay`, `cutoff` and `keep_results` parameters. The `delay` and `cutoff` parameters represent time duration and their type should be compatible with the time column passed to `windowby`. This means that if your time column has type `int` or `float` then `delay` and `cutoff` should also have type, respectively, int or float. If instead, the time column has type [`DatetimeUtc`](/developers/api-docs/pathway/#pathway.DateTimeUtc) or [`DatetimeNaive`](/developers/api-docs/pathway/#pathway.DateTimeNaive), then `delay` and `cutoff` should have type [`Duration`](/developers/api-docs/pathway/#pathway.Duration). To understand the motivation of these parameters read our [guide on behaviors](/developers/user-guide/temporal-data/behaviors/)."
      ]
    },
    {
      "cell_type": "markdown",
      "id": "7c467a56",
      "metadata": {},
      "source": [
        "### Delay"
      ]
    },
    {
      "cell_type": "markdown",
      "id": "b2a1e7e2",
      "metadata": {},
      "source": [
        "When you set the `delay` to be non-zero, the engine will wait before first calculating the result of each window. To be more precise, the window will be calculated, when _now_ is at least `window_start + delay`. If `delay` is not provided, it defaults to `None` which disables the delay mechanism."
      ]
    },
    {
      "cell_type": "markdown",
      "id": "c55b9cf9",
      "metadata": {},
      "source": [
        "![Illustration of delay](https://pathway.com/assets/content/tutorials/windows_behavior/window-behavior-delay.svg)"
      ]
    },
    {
      "cell_type": "markdown",
      "id": "ead5b66b",
      "metadata": {},
      "source": [
        "<!-- canva link: https://www.canva.com/design/DAF5SOHMKWA/Wpn4FY_RswyOaFaSpRzIgA/edit -->"
      ]
    },
    {
      "cell_type": "markdown",
      "id": "8a35801c",
      "metadata": {},
      "source": [
        "You can use it to stagger calculations - this allows for more rows to be processed at once, rather than recomputing the result after each row arrives to the engine. If you set the `delay` in the log example to be 4, you will see that the update stream becomes shorter."
      ]
    },
    {
      "cell_type": "code",
      "execution_count": 6,
      "id": "a2a208da",
      "metadata": {
        "execution": {
          "iopub.execute_input": "2024-04-19T11:32:55.617569Z",
          "iopub.status.busy": "2024-04-19T11:32:55.617288Z",
          "iopub.status.idle": "2024-04-19T11:32:55.778905Z",
          "shell.execute_reply": "2024-04-19T11:32:55.778426Z"
        }
      },
      "outputs": [
        {
          "name": "stderr",
          "output_type": "stream",
          "text": [
            "[2024-04-19T13:32:55]:INFO:Preparing Pathway computation\n"
          ]
        },
        {
          "name": "stdout",
          "output_type": "stream",
          "text": [
            "            | window_start | window_end | n_logs | __time__             | __diff__\n",
            "^Y8PEAZV... | 352          | 362        | 1      | 368                  | 1\n",
            "^YFKEFV6... | 356          | 366        | 2      | 368                  | 1\n",
            "^DX546QX... | 360          | 370        | 3      | 370                  | 1\n",
            "^B5NPNV8... | 364          | 374        | 3      | 372                  | 1\n",
            "^B5NPNV8... | 364          | 374        | 3      | 374                  | -1\n",
            "^B5NPNV8... | 364          | 374        | 4      | 374                  | 1\n",
            "^VRT1YTS... | 368          | 378        | 3      | 382                  | 1\n",
            "^QE3WQ0X... | 372          | 382        | 1      | 392                  | 1\n",
            "^XJDDRJ0... | 376          | 386        | 2      | 392                  | 1\n",
            "^VRT1YTS... | 368          | 378        | 3      | 396                  | -1\n",
            "^QE3WQ0X... | 372          | 382        | 1      | 396                  | -1\n",
            "^XJDDRJ0... | 376          | 386        | 2      | 396                  | -1\n",
            "^VRT1YTS... | 368          | 378        | 4      | 396                  | 1\n",
            "^QE3WQ0X... | 372          | 382        | 2      | 396                  | 1\n",
            "^XJDDRJ0... | 376          | 386        | 3      | 396                  | 1\n",
            "^B5NPNV8... | 364          | 374        | 4      | 410                  | -1\n",
            "^VRT1YTS... | 368          | 378        | 4      | 410                  | -1\n",
            "^B5NPNV8... | 364          | 374        | 5      | 410                  | 1\n",
            "^VRT1YTS... | 368          | 378        | 5      | 410                  | 1\n",
            "^R0SM1CF... | 380          | 390        | 2      | 18446744073709551614 | 1\n"
          ]
        }
      ],
      "source": [
        "result_delay = t.windowby(\n",
        "    t.event_time,\n",
        "    window=pw.temporal.sliding(duration=10, hop=4),\n",
        "    behavior=pw.temporal.common_behavior(delay=4),\n",
        ").reduce(\n",
        "    window_start=pw.this._pw_window_start,\n",
        "    window_end=pw.this._pw_window_end,\n",
        "    n_logs=pw.reducers.count(),\n",
        ")\n",
        "pw.debug.compute_and_print_update_stream(result_delay)"
      ]
    },
    {
      "cell_type": "markdown",
      "id": "1b0e7a6d",
      "metadata": {},
      "source": [
        "You can notice in the `__time__` column an unexpected timestamp, that is `18446744073709551614`. That is because of the use of debug mode. As the input ended, the engine triggers the computation of the last window by setting _now_ to be maximum possible time. It won't happen in the streaming mode because the processing there never ends."
      ]
    },
    {
      "cell_type": "markdown",
      "id": "c10278bd",
      "metadata": {},
      "source": [
        "### Cutoff"
      ]
    },
    {
      "cell_type": "markdown",
      "id": "ec35c4b8",
      "metadata": {},
      "source": [
        "Cutoff determines when the result of the window will no longer be updated, even if there is a change to a data point inside that window. This should not be before the windows closes - in such case you would shorten the window. When the `cutoff` is set, the window is no longer updated when _now_ is later than `window_end + cutoff`. If the `cutoff` is not provided, it defaults to `None` which disables the cutoff mechanism."
      ]
    },
    {
      "cell_type": "markdown",
      "id": "58987947",
      "metadata": {},
      "source": [
        "![Illustration of cutoff](https://pathway.com/assets/content/tutorials/windows_behavior/window-behavior-cutoff.svg)"
      ]
    },
    {
      "cell_type": "markdown",
      "id": "c444f661",
      "metadata": {},
      "source": [
        "<!-- canva link: https://www.canva.com/design/DAF5TPP1830/asKKfh7ff1RWl7F90UMJbg/edit -->"
      ]
    },
    {
      "cell_type": "markdown",
      "id": "07b93b23",
      "metadata": {},
      "source": [
        "Now add `cutoff=4` to the log example. You should see that the row that has processing time `410` no longer impacts the results. When you use `cutoff` omitting such late points means that you get different results than if you processed everything in batch, as the data that comes after the cutoff of a window will not be used in calculations for this window. This, however, is necessary for efficient memory consumption - without setting `cutoff` all data that ever was processed needs to be kept in memory, in case some very late event arrives and a window needs to be recomputed. When you use the cutoff mechanism you inform the engine when it can clear the memory."
      ]
    },
    {
      "cell_type": "code",
      "execution_count": 7,
      "id": "e57301d9",
      "metadata": {
        "execution": {
          "iopub.execute_input": "2024-04-19T11:32:55.780755Z",
          "iopub.status.busy": "2024-04-19T11:32:55.780417Z",
          "iopub.status.idle": "2024-04-19T11:32:55.926479Z",
          "shell.execute_reply": "2024-04-19T11:32:55.926051Z"
        }
      },
      "outputs": [
        {
          "name": "stderr",
          "output_type": "stream",
          "text": [
            "[2024-04-19T13:32:55]:INFO:Preparing Pathway computation\n"
          ]
        },
        {
          "name": "stdout",
          "output_type": "stream",
          "text": [
            "            | window_start | window_end | n_logs | __time__ | __diff__\n",
            "^Y8PEAZV... | 352          | 362        | 1      | 362      | 1\n",
            "^YFKEFV6... | 356          | 366        | 2      | 362      | 1\n",
            "^DX546QX... | 360          | 370        | 2      | 362      | 1\n",
            "^DX546QX... | 360          | 370        | 2      | 368      | -1\n",
            "^DX546QX... | 360          | 370        | 3      | 368      | 1\n",
            "^B5NPNV8... | 364          | 374        | 1      | 368      | 1\n",
            "^B5NPNV8... | 364          | 374        | 1      | 370      | -1\n",
            "^B5NPNV8... | 364          | 374        | 2      | 370      | 1\n",
            "^VRT1YTS... | 368          | 378        | 1      | 370      | 1\n",
            "^B5NPNV8... | 364          | 374        | 2      | 372      | -1\n",
            "^VRT1YTS... | 368          | 378        | 1      | 372      | -1\n",
            "^B5NPNV8... | 364          | 374        | 3      | 372      | 1\n",
            "^VRT1YTS... | 368          | 378        | 2      | 372      | 1\n",
            "^B5NPNV8... | 364          | 374        | 3      | 374      | -1\n",
            "^VRT1YTS... | 368          | 378        | 2      | 374      | -1\n",
            "^B5NPNV8... | 364          | 374        | 4      | 374      | 1\n",
            "^VRT1YTS... | 368          | 378        | 3      | 374      | 1\n",
            "^QE3WQ0X... | 372          | 382        | 1      | 374      | 1\n",
            "^XJDDRJ0... | 376          | 386        | 1      | 382      | 1\n",
            "^R0SM1CF... | 380          | 390        | 1      | 382      | 1\n",
            "^XJDDRJ0... | 376          | 386        | 1      | 392      | -1\n",
            "^R0SM1CF... | 380          | 390        | 1      | 392      | -1\n",
            "^XJDDRJ0... | 376          | 386        | 2      | 392      | 1\n",
            "^R0SM1CF... | 380          | 390        | 2      | 392      | 1\n",
            "^QE3WQ0X... | 372          | 382        | 1      | 396      | -1\n",
            "^XJDDRJ0... | 376          | 386        | 2      | 396      | -1\n",
            "^QE3WQ0X... | 372          | 382        | 2      | 396      | 1\n",
            "^XJDDRJ0... | 376          | 386        | 3      | 396      | 1\n"
          ]
        }
      ],
      "source": [
        "result_cutoff = t.windowby(\n",
        "    t.event_time,\n",
        "    window=pw.temporal.sliding(duration=10, hop=4),\n",
        "    behavior=pw.temporal.common_behavior(cutoff=4),\n",
        ").reduce(\n",
        "    window_start=pw.this._pw_window_start,\n",
        "    window_end=pw.this._pw_window_end,\n",
        "    n_logs=pw.reducers.count(),\n",
        ")\n",
        "pw.debug.compute_and_print_update_stream(result_cutoff)"
      ]
    },
    {
      "cell_type": "markdown",
      "id": "c2f5aebc",
      "metadata": {},
      "source": [
        "Note that since the time when cutoff triggers is based only on the window end and `cutoff` value, an event belonging to multiple windows can be late - and ignored in calculations - for one window, but on time for another. In the above example, you can notice that at time `396`. At this time the event with `event_time` equal to `376` arrives to the engine, so it belongs to 3 windows - starting at times `368`, `372` and `376`. But since for the first of these windows, we are past its cutoff when this event arrives, only the other two windows are recalculated."
      ]
    },
    {
      "cell_type": "markdown",
      "id": "a210006e",
      "metadata": {},
      "source": [
        "### Keep_results"
      ]
    },
    {
      "cell_type": "markdown",
      "id": "c5f8306f",
      "metadata": {},
      "source": [
        "The final argument of `common_behavior` - `keep_results` is only relevant if you use the cutoff mechanism. When set to `True`, its default value, the rows corresponding to windows already past cutoff are kept in the output table. You can see that by looking at the final state of the `result_cutoff` Table from the previous Section - it contains a record for each window."
      ]
    },
    {
      "cell_type": "code",
      "execution_count": 8,
      "id": "38b4fb8f",
      "metadata": {
        "execution": {
          "iopub.execute_input": "2024-04-19T11:32:55.928136Z",
          "iopub.status.busy": "2024-04-19T11:32:55.927839Z",
          "iopub.status.idle": "2024-04-19T11:32:55.945570Z",
          "shell.execute_reply": "2024-04-19T11:32:55.945190Z"
        }
      },
      "outputs": [
        {
          "name": "stderr",
          "output_type": "stream",
          "text": [
            "[2024-04-19T13:32:55]:INFO:Preparing Pathway computation\n"
          ]
        },
        {
          "name": "stdout",
          "output_type": "stream",
          "text": [
            "            | window_start | window_end | n_logs\n",
            "^Y8PEAZV... | 352          | 362        | 1\n",
            "^YFKEFV6... | 356          | 366        | 2\n",
            "^DX546QX... | 360          | 370        | 3\n",
            "^B5NPNV8... | 364          | 374        | 4\n",
            "^VRT1YTS... | 368          | 378        | 3\n",
            "^QE3WQ0X... | 372          | 382        | 2\n",
            "^XJDDRJ0... | 376          | 386        | 3\n",
            "^R0SM1CF... | 380          | 390        | 2\n"
          ]
        }
      ],
      "source": [
        "pw.debug.compute_and_print(result_cutoff)"
      ]
    },
    {
      "cell_type": "markdown",
      "id": "53f75e37",
      "metadata": {},
      "source": [
        "If you set `keep_results=False`, however, once the window is past its cutoff, the record for this window is removed from the result Table, so, in the end, you are left only with the last few windows. The example use case is [log monitoring](/developers/showcases/realtime-log-monitoring), where you want to raise alerts based only on very recent windows."
      ]
    },
    {
      "cell_type": "code",
      "execution_count": 9,
      "id": "45a8a28f",
      "metadata": {
        "execution": {
          "iopub.execute_input": "2024-04-19T11:32:55.947071Z",
          "iopub.status.busy": "2024-04-19T11:32:55.946810Z",
          "iopub.status.idle": "2024-04-19T11:32:56.087314Z",
          "shell.execute_reply": "2024-04-19T11:32:56.086882Z"
        }
      },
      "outputs": [
        {
          "name": "stderr",
          "output_type": "stream",
          "text": [
            "[2024-04-19T13:32:56]:INFO:Preparing Pathway computation\n"
          ]
        },
        {
          "name": "stdout",
          "output_type": "stream",
          "text": [
            "            | window_start | window_end | n_logs\n",
            "^QE3WQ0X... | 372          | 382        | 2\n",
            "^XJDDRJ0... | 376          | 386        | 3\n",
            "^R0SM1CF... | 380          | 390        | 2\n"
          ]
        }
      ],
      "source": [
        "result_keep_results = t.windowby(\n",
        "    t.event_time,\n",
        "    window=pw.temporal.sliding(duration=10, hop=4, origin=360),\n",
        "    behavior=pw.temporal.common_behavior(cutoff=4, keep_results=False),\n",
        ").reduce(\n",
        "    window_start=pw.this._pw_window_start,\n",
        "    window_end=pw.this._pw_window_end,\n",
        "    n_logs=pw.reducers.count(),\n",
        ")\n",
        "pw.debug.compute_and_print(result_keep_results)"
      ]
    },
    {
      "cell_type": "markdown",
      "id": "2758f642",
      "metadata": {},
      "source": [
        "By checking the output of `compute_and_print_update_stream` you can see that each window was calculated at some point, but some of them were later removed."
      ]
    },
    {
      "cell_type": "code",
      "execution_count": 10,
      "id": "a168a29e",
      "metadata": {
        "execution": {
          "iopub.execute_input": "2024-04-19T11:32:56.088939Z",
          "iopub.status.busy": "2024-04-19T11:32:56.088648Z",
          "iopub.status.idle": "2024-04-19T11:32:56.105564Z",
          "shell.execute_reply": "2024-04-19T11:32:56.105191Z"
        }
      },
      "outputs": [
        {
          "name": "stderr",
          "output_type": "stream",
          "text": [
            "[2024-04-19T13:32:56]:INFO:Preparing Pathway computation\n"
          ]
        },
        {
          "name": "stdout",
          "output_type": "stream",
          "text": [
            "            | window_start | window_end | n_logs | __time__ | __diff__\n",
            "^DX546QX... | 360          | 370        | 2      | 362      | 1\n",
            "^DX546QX... | 360          | 370        | 2      | 368      | -1\n",
            "^DX546QX... | 360          | 370        | 3      | 368      | 1\n",
            "^B5NPNV8... | 364          | 374        | 1      | 368      | 1\n",
            "^B5NPNV8... | 364          | 374        | 1      | 370      | -1\n",
            "^B5NPNV8... | 364          | 374        | 2      | 370      | 1\n",
            "^VRT1YTS... | 368          | 378        | 1      | 370      | 1\n",
            "^B5NPNV8... | 364          | 374        | 2      | 372      | -1\n",
            "^VRT1YTS... | 368          | 378        | 1      | 372      | -1\n",
            "^B5NPNV8... | 364          | 374        | 3      | 372      | 1\n",
            "^VRT1YTS... | 368          | 378        | 2      | 372      | 1\n",
            "^B5NPNV8... | 364          | 374        | 3      | 374      | -1\n",
            "^VRT1YTS... | 368          | 378        | 2      | 374      | -1\n",
            "^B5NPNV8... | 364          | 374        | 4      | 374      | 1\n",
            "^VRT1YTS... | 368          | 378        | 3      | 374      | 1\n",
            "^QE3WQ0X... | 372          | 382        | 1      | 374      | 1\n",
            "^XJDDRJ0... | 376          | 386        | 1      | 382      | 1\n",
            "^R0SM1CF... | 380          | 390        | 1      | 382      | 1\n",
            "^DX546QX... | 360          | 370        | 3      | 392      | -1\n",
            "^B5NPNV8... | 364          | 374        | 4      | 392      | -1\n",
            "^VRT1YTS... | 368          | 378        | 3      | 392      | -1\n",
            "^XJDDRJ0... | 376          | 386        | 1      | 392      | -1\n",
            "^R0SM1CF... | 380          | 390        | 1      | 392      | -1\n",
            "^XJDDRJ0... | 376          | 386        | 2      | 392      | 1\n",
            "^R0SM1CF... | 380          | 390        | 2      | 392      | 1\n",
            "^QE3WQ0X... | 372          | 382        | 1      | 396      | -1\n",
            "^XJDDRJ0... | 376          | 386        | 2      | 396      | -1\n",
            "^QE3WQ0X... | 372          | 382        | 2      | 396      | 1\n",
            "^XJDDRJ0... | 376          | 386        | 3      | 396      | 1\n"
          ]
        }
      ],
      "source": [
        "pw.debug.compute_and_print_update_stream(result_keep_results)"
      ]
    },
    {
      "cell_type": "markdown",
      "id": "88f45512",
      "metadata": {},
      "source": [
        "## Exactly Once Behavior"
      ]
    },
    {
      "cell_type": "markdown",
      "id": "d81f5b9d",
      "metadata": {},
      "source": [
        "For windows that you want to calculate exactly once, Pathway offers an easier way of defining behavior with `pw.temporal.exactly_once_behavior` function. It takes one optional argument, `shift`. Then a window will be calculated at time `_pw_window_end + shift`, and after that all changes to this window will be ignored. It is equivalent to using `pw.temporal.common_behavior` with `delay` set to `duration + shift` (`duration` is an argument to both [sliding](/developers/api-docs/temporal/#pathway.stdlib.temporal.sliding) and [tumbling](/developers/api-docs/temporal/#pathway.stdlib.temporal.tumbling) windows for setting the length of the window) and `cutoff` to `shift`."
      ]
    },
    {
      "cell_type": "code",
      "execution_count": 11,
      "id": "52f28cf5",
      "metadata": {
        "execution": {
          "iopub.execute_input": "2024-04-19T11:32:56.107056Z",
          "iopub.status.busy": "2024-04-19T11:32:56.106797Z",
          "iopub.status.idle": "2024-04-19T11:32:56.300482Z",
          "shell.execute_reply": "2024-04-19T11:32:56.300165Z"
        }
      },
      "outputs": [
        {
          "name": "stderr",
          "output_type": "stream",
          "text": [
            "[2024-04-19T13:32:56]:INFO:Preparing Pathway computation\n"
          ]
        },
        {
          "name": "stdout",
          "output_type": "stream",
          "text": [
            "            | window_start | window_end | n_logs | __time__             | __diff__\n",
            "^DX546QX... | 360          | 370        | 3      | 382                  | 1\n",
            "^B5NPNV8... | 364          | 374        | 4      | 392                  | 1\n",
            "^VRT1YTS... | 368          | 378        | 3      | 392                  | 1\n",
            "^QE3WQ0X... | 372          | 382        | 2      | 18446744073709551614 | 1\n",
            "^XJDDRJ0... | 376          | 386        | 3      | 18446744073709551614 | 1\n",
            "^R0SM1CF... | 380          | 390        | 2      | 18446744073709551614 | 1\n"
          ]
        }
      ],
      "source": [
        "result_exactly_once = t.windowby(\n",
        "    t.event_time,\n",
        "    window=pw.temporal.sliding(duration=10, hop=4, origin=360),\n",
        "    behavior=pw.temporal.exactly_once_behavior(shift=2),\n",
        ").reduce(\n",
        "    window_start=pw.this._pw_window_start,\n",
        "    window_end=pw.this._pw_window_end,\n",
        "    n_logs=pw.reducers.count(),\n",
        ")\n",
        "pw.debug.compute_and_print_update_stream(result_exactly_once)"
      ]
    }
  ],
  "metadata": {
    "jupytext": {
      "cell_metadata_filter": "-all",
      "main_language": "python",
      "notebook_metadata_filter": "-all"
    },
    "language_info": {
      "codemirror_mode": {
        "name": "ipython",
        "version": 3
      },
      "file_extension": ".py",
      "mimetype": "text/x-python",
      "name": "python",
      "nbconvert_exporter": "python",
      "pygments_lexer": "ipython3",
      "version": "3.11.8"
    }
  },
  "nbformat": 4,
  "nbformat_minor": 5
}