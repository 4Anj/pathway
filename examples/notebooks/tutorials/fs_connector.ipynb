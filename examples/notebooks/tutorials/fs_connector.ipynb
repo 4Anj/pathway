{
  "cells": [
    {
      "cell_type": "markdown",
      "metadata": {
        "id": "view-in-colab"
      },
      "source": [
        "<a href=\"https://colab.research.google.com/github/pathwaycom/pathway/blob/main/examples/notebooks/tutorials/fs_connector.ipynb\" target=\"_parent\"><img src=\"https://pathway.com/assets/colab-badge.svg\" alt=\"Run In Colab\" class=\"inline\"/></a>"
      ]
    },
    {
      "cell_type": "markdown",
      "source": [
        "# Installing Pathway with Python 3.10+\n",
        "\n",
        "In the cell below, we install Pathway into a Python 3.10+ Linux runtime.\n",
        "\n",
        "> **If you are running in Google Colab, please run the colab notebook (Ctrl+F9)**, disregarding the 'not authored by Google' warning.\n",
        "> \n",
        "> **The installation and loading time is less than 1 minute**.\n"
      ],
      "metadata": {
        "id": "notebook-instructions"
      }
    },
    {
      "cell_type": "code",
      "source": [
        "%%capture --no-display\n",
        "!pip install --prefer-binary pathway"
      ],
      "metadata": {
        "id": "pip-installation-pathway",
        "cellView": "form"
      },
      "execution_count": null,
      "outputs": []
    },
    {
      "cell_type": "markdown",
      "id": "c9435855",
      "metadata": {},
      "source": [
        "# File System Connectors\n",
        "This guide explains the [fs connectors](/developers/api-docs/pathway-io/fs) that connect Pathway to your file system to read and write data with the following basic formats: binary, plaintext, CSV, and JSON.\n",
        "\n",
        "The first part of this guide focuses on defining the source of the data for our connector (using plaintext data format to keep things simple). The second part explains additional configuration that can (or needs to) be defined for all simple data formats.\n",
        "In particular we show the input connectors ([`pw.io.fs.read`](/developers/api-docs/pathway-io/fs/#pathway.io.fs.read)) reading data in:\n",
        "- [`CSV` format](/developers/user-guide/connectors/fs-connector/#csv),\n",
        "- [`JSON` format](/developers/user-guide/connectors/fs-connector/#json),\n",
        "- [`plaintext`, `plaintext_by_file`, and `binary` formats](/developers/user-guide/connectors/fs-connector/#unstructured-data).\n",
        "\n",
        "The output connectors ([`pw.io.fs.write`](/developers/api-docs/pathway-io/fs/#pathway.io.fs.write)) write data in:\n",
        "- [`CSV` format](/developers/user-guide/connectors/fs-connector/#csv),\n",
        "- [`JSON` format](/developers/user-guide/connectors/fs-connector/#json).\n",
        "\n",
        "File system connectors work both in streaming and static modes. Be careful as the use of connectors differs depending on the chosen mode: see the [differences](/developers/user-guide/connecting-to-data/streaming-and-static-modes).\n",
        "For simplicity, all the examples below are in the \"static\" mode but can easily be changed to \"streaming\" mode by changing the `mode` parameter.\n",
        "\n",
        "## Location of files and filter.\n",
        "The code snippets below prepares the basic file structure that is used in the later part of this article. To keep tings simple, all examples work with data of type `str`, to see more on [schemas](/developers/user-guide/types-in-pathway/schema) and [types](/developers/user-guide/types-in-pathway/datatypes) in other places."
      ]
    },
    {
      "cell_type": "code",
      "execution_count": 1,
      "id": "c874f4cf",
      "metadata": {
        "execution": {
          "iopub.execute_input": "2024-04-19T11:28:43.381486Z",
          "iopub.status.busy": "2024-04-19T11:28:43.381357Z",
          "iopub.status.idle": "2024-04-19T11:28:43.990602Z",
          "shell.execute_reply": "2024-04-19T11:28:43.990179Z"
        },
        "lines_to_next_cell": 0
      },
      "outputs": [],
      "source": [
        "! mkdir -p plain_input\n",
        "! mkdir -p plain_output\n",
        "! echo -e \"test1\\ndata1\" > plain_input/in1.txt\n",
        "! echo -e \"test2\\ndata2\" > plain_input/in2.txt"
      ]
    },
    {
      "cell_type": "markdown",
      "id": "4420ffdf",
      "metadata": {},
      "source": [
        "### Specify the input and output with `path` and `filename`.\n",
        "Below, you can find the simplest examples of input ([`pw.io.fs.read`](/developers/api-docs/pathway-io/fs/#pathway.io.fs.read)) and output ([`pw.io.fs.write`](/developers/api-docs/pathway-io/fs/#pathway.io.fs.write)) connectors. Both examples use plaintext as the input format (more on that [later](/developers/user-guide/connectors/fs-connector#data-formats)). The `path` parameter can point either to a directory or a particular file. If it point so a directory, it reads all files that are inside. Otherwise it reads only the file that is specified (and as such it makes sense only in the static mode)."
      ]
    },
    {
      "cell_type": "code",
      "execution_count": 2,
      "id": "481eae4a",
      "metadata": {
        "execution": {
          "iopub.execute_input": "2024-04-19T11:28:43.992584Z",
          "iopub.status.busy": "2024-04-19T11:28:43.992442Z",
          "iopub.status.idle": "2024-04-19T11:28:50.491046Z",
          "shell.execute_reply": "2024-04-19T11:28:50.490637Z"
        }
      },
      "outputs": [],
      "source": [
        "%%capture\n",
        "import pathway as pw\n",
        "test1 = pw.io.fs.read(path = \"./plain_input/\", format = \"plaintext\", mode=\"static\")\n",
        "pw.io.fs.write(test1, filename=\"./plain_output/out1.txt\", format=\"json\")\n",
        "\n",
        "test2 = pw.io.fs.read(path = \"./plain_input/in1.txt\", format = \"plaintext\", mode=\"static\")\n",
        "pw.io.fs.write(test2, filename=\"./plain_output/out2.txt\", format=\"json\")\n",
        "\n",
        "pw.run()"
      ]
    },
    {
      "cell_type": "markdown",
      "id": "a66be398",
      "metadata": {},
      "source": [
        "The output can be found in the `plain_output` directory."
      ]
    },
    {
      "cell_type": "code",
      "execution_count": 3,
      "id": "68fbc2e9",
      "metadata": {
        "execution": {
          "iopub.execute_input": "2024-04-19T11:28:50.493054Z",
          "iopub.status.busy": "2024-04-19T11:28:50.492652Z",
          "iopub.status.idle": "2024-04-19T11:28:51.142089Z",
          "shell.execute_reply": "2024-04-19T11:28:51.141565Z"
        }
      },
      "outputs": [
        {
          "name": "stdout",
          "output_type": "stream",
          "text": [
            "out1:\r\n"
          ]
        },
        {
          "name": "stdout",
          "output_type": "stream",
          "text": [
            "{\"data\":\"test1\",\"diff\":1,\"time\":1713526130484}\r\n",
            "{\"data\":\"data2\",\"diff\":1,\"time\":1713526130484}\r\n",
            "{\"data\":\"data1\",\"diff\":1,\"time\":1713526130484}\r\n",
            "{\"data\":\"test2\",\"diff\":1,\"time\":1713526130484}\r\n"
          ]
        },
        {
          "name": "stdout",
          "output_type": "stream",
          "text": [
            "out2:\r\n"
          ]
        },
        {
          "name": "stdout",
          "output_type": "stream",
          "text": [
            "{\"data\":\"test1\",\"diff\":1,\"time\":1713526130484}\r\n",
            "{\"data\":\"data1\",\"diff\":1,\"time\":1713526130484}\r\n"
          ]
        }
      ],
      "source": [
        "! echo \"out1:\"\n",
        "! cat plain_output/out1.txt\n",
        "! echo \"out2:\"\n",
        "! cat plain_output/out2.txt"
      ]
    },
    {
      "cell_type": "markdown",
      "id": "4b2d967c",
      "metadata": {
        "lines_to_next_cell": 0
      },
      "source": [
        "As you can see, the first example read the data from both `in1.txt` and `in2.txt`, while the second read only the data from `in1.txt`.\n",
        "\n",
        "### Filter the files to read with `object_pattern`\n",
        "In case you want to specify a directory as the source of your data, but read only some of its contents, you can specify filter [pattern](https://www.gnu.org/software/findutils/manual/html_node/find_html/Shell-Pattern-Matching.html) and pass it using the `object_pattern` parameter."
      ]
    },
    {
      "cell_type": "code",
      "execution_count": 4,
      "id": "e56f73bc",
      "metadata": {
        "execution": {
          "iopub.execute_input": "2024-04-19T11:28:51.144119Z",
          "iopub.status.busy": "2024-04-19T11:28:51.143970Z",
          "iopub.status.idle": "2024-04-19T11:28:51.164393Z",
          "shell.execute_reply": "2024-04-19T11:28:51.164033Z"
        }
      },
      "outputs": [],
      "source": [
        "%%capture\n",
        "test3 = pw.io.fs.read(\"./plain_input/\", format = \"plaintext\", mode=\"static\", object_pattern = \"*2*\")\n",
        "pw.io.fs.write(test3, \"./plain_output/output3.txt\", \"json\")\n",
        "pw.run()"
      ]
    },
    {
      "cell_type": "markdown",
      "id": "af0550cb",
      "metadata": {},
      "source": [
        "The output can be found in the `plain_output` directory. As you can see, `out3.txt` contains data only from `in2.txt`, as it is the only file in the input directory that matches the `*2*` pattern:"
      ]
    },
    {
      "cell_type": "code",
      "execution_count": 5,
      "id": "74b326f8",
      "metadata": {
        "execution": {
          "iopub.execute_input": "2024-04-19T11:28:51.165778Z",
          "iopub.status.busy": "2024-04-19T11:28:51.165640Z",
          "iopub.status.idle": "2024-04-19T11:28:51.490714Z",
          "shell.execute_reply": "2024-04-19T11:28:51.490165Z"
        }
      },
      "outputs": [
        {
          "name": "stdout",
          "output_type": "stream",
          "text": [
            "out3:\r\n"
          ]
        },
        {
          "name": "stdout",
          "output_type": "stream",
          "text": [
            "{\"data\":\"data2\",\"diff\":1,\"time\":1713526131158}\r\n",
            "{\"data\":\"test2\",\"diff\":1,\"time\":1713526131158}\r\n"
          ]
        }
      ],
      "source": [
        "! echo \"out3:\"\n",
        "! cat plain_output/output3.txt"
      ]
    },
    {
      "cell_type": "markdown",
      "id": "b95b83e6",
      "metadata": {},
      "source": [
        "## Data formats\n",
        "### CSV\n",
        "For the CSV format, each file on the input needs to have defined headers."
      ]
    },
    {
      "cell_type": "code",
      "execution_count": 6,
      "id": "f8722df8",
      "metadata": {
        "execution": {
          "iopub.execute_input": "2024-04-19T11:28:51.492684Z",
          "iopub.status.busy": "2024-04-19T11:28:51.492526Z",
          "iopub.status.idle": "2024-04-19T11:28:52.793083Z",
          "shell.execute_reply": "2024-04-19T11:28:52.792545Z"
        },
        "lines_to_next_cell": 0
      },
      "outputs": [
        {
          "name": "stdout",
          "output_type": "stream",
          "text": [
            "csv_in1.txt:\r\n"
          ]
        },
        {
          "name": "stdout",
          "output_type": "stream",
          "text": [
            "header1;header2\r\n",
            "data1;data2\r\n",
            "\r\n",
            "data3;data4\r\n"
          ]
        },
        {
          "name": "stdout",
          "output_type": "stream",
          "text": [
            "csv_in2.txt:\r\n"
          ]
        },
        {
          "name": "stdout",
          "output_type": "stream",
          "text": [
            "header1;header2\r\n",
            "data5;data6\r\n",
            "\r\n",
            "data7;data8\r\n"
          ]
        }
      ],
      "source": [
        "! mkdir -p csv_input\n",
        "! mkdir -p csv_output\n",
        "! echo -e \"header1;header2\\ndata1;data2\\n\\ndata3;data4\" > csv_input/csv_in1.txt\n",
        "! echo -e \"header1;header2\\ndata5;data6\\n\\ndata7;data8\" > csv_input/csv_in2.txt\n",
        "! echo -e \"csv_in1.txt:\"\n",
        "! cat csv_input/csv_in1.txt\n",
        "! echo -e \"csv_in2.txt:\"\n",
        "! cat csv_input/csv_in2.txt"
      ]
    },
    {
      "cell_type": "markdown",
      "id": "465dd62e",
      "metadata": {
        "lines_to_next_cell": 0
      },
      "source": [
        "In most cases, in order to read the data, you need to define its schema and pass it to the connector. Furthermore, for the `csv` format, you can use [CSVParserSettings](/developers/api-docs/pathway-io#pathway.io.CsvParserSettings) to accommodate for a nonstandard formatting of the input file. In the example below, it is configured to use `;` as a delimiter."
      ]
    },
    {
      "cell_type": "code",
      "execution_count": 7,
      "id": "2283d04e",
      "metadata": {
        "execution": {
          "iopub.execute_input": "2024-04-19T11:28:52.795086Z",
          "iopub.status.busy": "2024-04-19T11:28:52.794942Z",
          "iopub.status.idle": "2024-04-19T11:28:52.817378Z",
          "shell.execute_reply": "2024-04-19T11:28:52.817053Z"
        },
        "lines_to_next_cell": 0
      },
      "outputs": [],
      "source": [
        "%%capture\n",
        "class csv_schema(pw.Schema):\n",
        "    header1: str\n",
        "    header2: str\n",
        "\n",
        "csv_settings = pw.io.CsvParserSettings(delimiter=\";\")\n",
        "csv_data = pw.io.fs.read(path = \"./csv_input/\", format=\"csv\", schema=csv_schema, csv_settings=csv_settings,mode=\"static\")\n",
        "pw.io.fs.write(table=csv_data, filename=\"./csv_output/csv_out1.txt\", format=\"csv\")\n",
        "pw.run()"
      ]
    },
    {
      "cell_type": "code",
      "execution_count": 8,
      "id": "444f66e1",
      "metadata": {
        "execution": {
          "iopub.execute_input": "2024-04-19T11:28:52.818718Z",
          "iopub.status.busy": "2024-04-19T11:28:52.818578Z",
          "iopub.status.idle": "2024-04-19T11:28:52.983204Z",
          "shell.execute_reply": "2024-04-19T11:28:52.982702Z"
        }
      },
      "outputs": [
        {
          "name": "stdout",
          "output_type": "stream",
          "text": [
            "header1,header2,time,diff\r\n",
            "\"data7\",\"data8\",1713526132810,1\r\n",
            "\"data1\",\"data2\",1713526132810,1\r\n",
            "\"data3\",\"data4\",1713526132810,1\r\n",
            "\"data5\",\"data6\",1713526132810,1\r\n"
          ]
        }
      ],
      "source": [
        "! cat ./csv_output/csv_out1.txt"
      ]
    },
    {
      "cell_type": "markdown",
      "id": "d2ec6418",
      "metadata": {
        "lines_to_next_cell": 0
      },
      "source": [
        "You can also use the dedicated [CSV connector](/developers/user-guide/connectors/csv_connectors).\n",
        "### JSON\n",
        "You can use the [JSON format](https://json.org) by setting the parameter `format` to `json`."
      ]
    },
    {
      "cell_type": "code",
      "execution_count": 9,
      "id": "4ff5afcb",
      "metadata": {
        "execution": {
          "iopub.execute_input": "2024-04-19T11:28:52.985487Z",
          "iopub.status.busy": "2024-04-19T11:28:52.985244Z",
          "iopub.status.idle": "2024-04-19T11:28:54.274799Z",
          "shell.execute_reply": "2024-04-19T11:28:54.274301Z"
        },
        "lines_to_next_cell": 0
      },
      "outputs": [
        {
          "name": "stdout",
          "output_type": "stream",
          "text": [
            "json_in1.txt:\r\n"
          ]
        },
        {
          "name": "stdout",
          "output_type": "stream",
          "text": [
            "{\"header1\":data1\",\r\n",
            "\"header2\":\"data2\"}\r\n",
            "{\"header1\":\"data3\",\"header2\":\"data4\"}\r\n",
            "\r\n"
          ]
        },
        {
          "name": "stdout",
          "output_type": "stream",
          "text": [
            "json_in2.txt:\r\n"
          ]
        },
        {
          "name": "stdout",
          "output_type": "stream",
          "text": [
            "{\"header1\":\"data5\",\"header2\":\"data6\"}\r\n",
            "{\"header1\":\"data7\",\"header2\":\"data8\"}\r\n",
            "\r\n"
          ]
        }
      ],
      "source": [
        "! mkdir -p json_input\n",
        "! mkdir -p json_output\n",
        "! echo -e '{\"header1\":data1\",\\n\"header2\":\"data2\"}\\n{\"header1\":\"data3\",\"header2\":\"data4\"}\\n' > json_input/json_in1.txt\n",
        "! echo -e '{\"header1\":\"data5\",\"header2\":\"data6\"}\\n{\"header1\":\"data7\",\"header2\":\"data8\"}\\n' > json_input/json_in2.txt\n",
        "! echo -e \"json_in1.txt:\"\n",
        "! cat json_input/json_in1.txt\n",
        "! echo -e \"json_in2.txt:\"\n",
        "! cat json_input/json_in2.txt"
      ]
    },
    {
      "cell_type": "markdown",
      "id": "c76c4c01",
      "metadata": {
        "lines_to_next_cell": 0
      },
      "source": [
        "As in most cases, in order to read the data, you need to define a schema and pass it to the connector. Each input file needs to be a sequence of properly formatted JSON objects."
      ]
    },
    {
      "cell_type": "code",
      "execution_count": 10,
      "id": "a5c8b8dc",
      "metadata": {
        "execution": {
          "iopub.execute_input": "2024-04-19T11:28:54.277121Z",
          "iopub.status.busy": "2024-04-19T11:28:54.276881Z",
          "iopub.status.idle": "2024-04-19T11:28:54.308923Z",
          "shell.execute_reply": "2024-04-19T11:28:54.308534Z"
        },
        "lines_to_next_cell": 0
      },
      "outputs": [],
      "source": [
        "%%capture\n",
        "class json_schema(pw.Schema):\n",
        "    header1: str\n",
        "    header2: str\n",
        "\n",
        "json_data = pw.io.fs.read(path = \"./json_input/\", format=\"json\", schema=json_schema, mode=\"static\")\n",
        "pw.io.fs.write(table=json_data, filename=\"./json_output/json_out1.txt\", format=\"json\")\n",
        "pw.run()"
      ]
    },
    {
      "cell_type": "code",
      "execution_count": 11,
      "id": "94699b08",
      "metadata": {
        "execution": {
          "iopub.execute_input": "2024-04-19T11:28:54.310682Z",
          "iopub.status.busy": "2024-04-19T11:28:54.310329Z",
          "iopub.status.idle": "2024-04-19T11:28:54.473764Z",
          "shell.execute_reply": "2024-04-19T11:28:54.473324Z"
        },
        "lines_to_next_cell": 0
      },
      "outputs": [
        {
          "name": "stdout",
          "output_type": "stream",
          "text": [
            "{\"header1\":\"data7\",\"header2\":\"data8\",\"diff\":1,\"time\":1713526134292}\r\n",
            "{\"header1\":\"data3\",\"header2\":\"data4\",\"diff\":1,\"time\":1713526134292}\r\n",
            "{\"header1\":\"data5\",\"header2\":\"data6\",\"diff\":1,\"time\":1713526134292}\r\n"
          ]
        }
      ],
      "source": [
        "! cat ./json_output/json_out1.txt"
      ]
    },
    {
      "cell_type": "markdown",
      "id": "1aecc5ba",
      "metadata": {
        "lines_to_next_cell": 0
      },
      "source": [
        "### Unstructured data\n",
        "Pathway allows you to read unstructured data using three formats: `plaintext`, `plaintext_by_file`, and  `binary`. `binary` and `plaintext` considers each line as a separate row that will be stored in the column `data`, and the format `plaintext_by_file` treats each file as a single row."
      ]
    },
    {
      "cell_type": "code",
      "execution_count": 12,
      "id": "2de78313",
      "metadata": {
        "execution": {
          "iopub.execute_input": "2024-04-19T11:28:54.475601Z",
          "iopub.status.busy": "2024-04-19T11:28:54.475372Z",
          "iopub.status.idle": "2024-04-19T11:28:54.638629Z",
          "shell.execute_reply": "2024-04-19T11:28:54.638198Z"
        }
      },
      "outputs": [],
      "source": [
        "! mkdir -p unstructured_output"
      ]
    },
    {
      "cell_type": "code",
      "execution_count": 13,
      "id": "8c1540d4",
      "metadata": {
        "execution": {
          "iopub.execute_input": "2024-04-19T11:28:54.640123Z",
          "iopub.status.busy": "2024-04-19T11:28:54.639988Z",
          "iopub.status.idle": "2024-04-19T11:28:54.683616Z",
          "shell.execute_reply": "2024-04-19T11:28:54.683324Z"
        }
      },
      "outputs": [],
      "source": [
        "%%capture\n",
        "plaintext_data = pw.io.fs.read(path = \"./plain_input\", format = \"plaintext\", mode=\"static\")\n",
        "pw.io.fs.write(plaintext_data,\"./unstructured_output/output1.txt\", \"csv\")\n",
        "\n",
        "plaintext_by_file_data = pw.io.fs.read(path = \"./plain_input\", format = \"plaintext_by_file\", mode=\"static\")\n",
        "pw.io.fs.write(plaintext_by_file_data,\"./unstructured_output/output2.txt\", \"csv\")\n",
        "\n",
        "binary_data = pw.io.fs.read(path = \"./plain_input\", format = \"binary\", mode=\"static\")\n",
        "pw.io.fs.write(binary_data,\"./unstructured_output/output3.txt\", \"csv\")\n",
        "\n",
        "pw.run()"
      ]
    },
    {
      "cell_type": "code",
      "execution_count": 14,
      "id": "3e953629",
      "metadata": {
        "execution": {
          "iopub.execute_input": "2024-04-19T11:28:54.685066Z",
          "iopub.status.busy": "2024-04-19T11:28:54.684780Z",
          "iopub.status.idle": "2024-04-19T11:28:55.656489Z",
          "shell.execute_reply": "2024-04-19T11:28:55.656092Z"
        },
        "lines_to_next_cell": 3
      },
      "outputs": [
        {
          "name": "stdout",
          "output_type": "stream",
          "text": [
            "plaintext\r\n"
          ]
        },
        {
          "name": "stdout",
          "output_type": "stream",
          "text": [
            "data,time,diff\r\n",
            "\"test1\",1713526134666,1\r\n",
            "\"data2\",1713526134666,1\r\n",
            "\"data1\",1713526134666,1\r\n",
            "\"test2\",1713526134666,1\r\n"
          ]
        },
        {
          "name": "stdout",
          "output_type": "stream",
          "text": [
            "plaintext by file\r\n"
          ]
        },
        {
          "name": "stdout",
          "output_type": "stream",
          "text": [
            "data,time,diff\r\n",
            "\"test2\\ndata2\",1713526134666,1\r\n",
            "\"test1\\ndata1\",1713526134666,1\r\n"
          ]
        },
        {
          "name": "stdout",
          "output_type": "stream",
          "text": [
            "binary\r\n"
          ]
        },
        {
          "name": "stdout",
          "output_type": "stream",
          "text": [
            "data,time,diff\r\n",
            "[116, 101, 115, 116, 50, 10, 100, 97, 116, 97, 50, 10],1713526134666,1\r\n",
            "[116, 101, 115, 116, 49, 10, 100, 97, 116, 97, 49, 10],1713526134666,1\r\n"
          ]
        }
      ],
      "source": [
        "! echo \"plaintext\"\n",
        "! cat ./unstructured_output/output1.txt\n",
        "! echo \"plaintext by file\"\n",
        "! cat ./unstructured_output/output2.txt\n",
        "! echo \"binary\"\n",
        "! cat ./unstructured_output/output3.txt"
      ]
    }
  ],
  "metadata": {
    "kernelspec": {
      "display_name": "Python 3 (ipykernel)",
      "language": "python",
      "name": "python3"
    },
    "language_info": {
      "codemirror_mode": {
        "name": "ipython",
        "version": 3
      },
      "file_extension": ".py",
      "mimetype": "text/x-python",
      "name": "python",
      "nbconvert_exporter": "python",
      "pygments_lexer": "ipython3",
      "version": "3.11.8"
    },
    "widgets": {
      "application/vnd.jupyter.widget-state+json": {
        "state": {
          "05826bea181b41b098b11700795db6f1": {
            "model_module": "@jupyter-widgets/base",
            "model_module_version": "2.0.0",
            "model_name": "LayoutModel",
            "state": {
              "_model_module": "@jupyter-widgets/base",
              "_model_module_version": "2.0.0",
              "_model_name": "LayoutModel",
              "_view_count": null,
              "_view_module": "@jupyter-widgets/base",
              "_view_module_version": "2.0.0",
              "_view_name": "LayoutView",
              "align_content": null,
              "align_items": null,
              "align_self": null,
              "border_bottom": null,
              "border_left": null,
              "border_right": null,
              "border_top": null,
              "bottom": null,
              "display": null,
              "flex": null,
              "flex_flow": null,
              "grid_area": null,
              "grid_auto_columns": null,
              "grid_auto_flow": null,
              "grid_auto_rows": null,
              "grid_column": null,
              "grid_gap": null,
              "grid_row": null,
              "grid_template_areas": null,
              "grid_template_columns": null,
              "grid_template_rows": null,
              "height": null,
              "justify_content": null,
              "justify_items": null,
              "left": null,
              "margin": null,
              "max_height": null,
              "max_width": null,
              "min_height": null,
              "min_width": null,
              "object_fit": null,
              "object_position": null,
              "order": null,
              "overflow": null,
              "padding": null,
              "right": null,
              "top": null,
              "visibility": null,
              "width": null
            }
          },
          "1fe7880b6aa546bab1cf8a90e53cedee": {
            "model_module": "@jupyter-widgets/base",
            "model_module_version": "2.0.0",
            "model_name": "LayoutModel",
            "state": {
              "_model_module": "@jupyter-widgets/base",
              "_model_module_version": "2.0.0",
              "_model_name": "LayoutModel",
              "_view_count": null,
              "_view_module": "@jupyter-widgets/base",
              "_view_module_version": "2.0.0",
              "_view_name": "LayoutView",
              "align_content": null,
              "align_items": null,
              "align_self": null,
              "border_bottom": null,
              "border_left": null,
              "border_right": null,
              "border_top": null,
              "bottom": null,
              "display": null,
              "flex": null,
              "flex_flow": null,
              "grid_area": null,
              "grid_auto_columns": null,
              "grid_auto_flow": null,
              "grid_auto_rows": null,
              "grid_column": null,
              "grid_gap": null,
              "grid_row": null,
              "grid_template_areas": null,
              "grid_template_columns": null,
              "grid_template_rows": null,
              "height": null,
              "justify_content": null,
              "justify_items": null,
              "left": null,
              "margin": null,
              "max_height": null,
              "max_width": null,
              "min_height": null,
              "min_width": null,
              "object_fit": null,
              "object_position": null,
              "order": null,
              "overflow": null,
              "padding": null,
              "right": null,
              "top": null,
              "visibility": null,
              "width": null
            }
          },
          "3f7089665f434793bfc549991b274e08": {
            "model_module": "@jupyter-widgets/output",
            "model_module_version": "1.0.0",
            "model_name": "OutputModel",
            "state": {
              "_dom_classes": [],
              "_model_module": "@jupyter-widgets/output",
              "_model_module_version": "1.0.0",
              "_model_name": "OutputModel",
              "_view_count": null,
              "_view_module": "@jupyter-widgets/output",
              "_view_module_version": "1.0.0",
              "_view_name": "OutputView",
              "layout": "IPY_MODEL_42780f250e9d4868921c36facd53750d",
              "msg_id": "",
              "outputs": [],
              "tabbable": null,
              "tooltip": null
            }
          },
          "42780f250e9d4868921c36facd53750d": {
            "model_module": "@jupyter-widgets/base",
            "model_module_version": "2.0.0",
            "model_name": "LayoutModel",
            "state": {
              "_model_module": "@jupyter-widgets/base",
              "_model_module_version": "2.0.0",
              "_model_name": "LayoutModel",
              "_view_count": null,
              "_view_module": "@jupyter-widgets/base",
              "_view_module_version": "2.0.0",
              "_view_name": "LayoutView",
              "align_content": null,
              "align_items": null,
              "align_self": null,
              "border_bottom": null,
              "border_left": null,
              "border_right": null,
              "border_top": null,
              "bottom": null,
              "display": null,
              "flex": null,
              "flex_flow": null,
              "grid_area": null,
              "grid_auto_columns": null,
              "grid_auto_flow": null,
              "grid_auto_rows": null,
              "grid_column": null,
              "grid_gap": null,
              "grid_row": null,
              "grid_template_areas": null,
              "grid_template_columns": null,
              "grid_template_rows": null,
              "height": null,
              "justify_content": null,
              "justify_items": null,
              "left": null,
              "margin": null,
              "max_height": null,
              "max_width": null,
              "min_height": null,
              "min_width": null,
              "object_fit": null,
              "object_position": null,
              "order": null,
              "overflow": null,
              "padding": null,
              "right": null,
              "top": null,
              "visibility": null,
              "width": null
            }
          },
          "6592a879575d4eb88e897d8ca9cb160d": {
            "model_module": "@jupyter-widgets/output",
            "model_module_version": "1.0.0",
            "model_name": "OutputModel",
            "state": {
              "_dom_classes": [],
              "_model_module": "@jupyter-widgets/output",
              "_model_module_version": "1.0.0",
              "_model_name": "OutputModel",
              "_view_count": null,
              "_view_module": "@jupyter-widgets/output",
              "_view_module_version": "1.0.0",
              "_view_name": "OutputView",
              "layout": "IPY_MODEL_05826bea181b41b098b11700795db6f1",
              "msg_id": "",
              "outputs": [],
              "tabbable": null,
              "tooltip": null
            }
          },
          "8b345d4cb09e4e5089a99c469d95dd2a": {
            "model_module": "@jupyter-widgets/base",
            "model_module_version": "2.0.0",
            "model_name": "LayoutModel",
            "state": {
              "_model_module": "@jupyter-widgets/base",
              "_model_module_version": "2.0.0",
              "_model_name": "LayoutModel",
              "_view_count": null,
              "_view_module": "@jupyter-widgets/base",
              "_view_module_version": "2.0.0",
              "_view_name": "LayoutView",
              "align_content": null,
              "align_items": null,
              "align_self": null,
              "border_bottom": null,
              "border_left": null,
              "border_right": null,
              "border_top": null,
              "bottom": null,
              "display": null,
              "flex": null,
              "flex_flow": null,
              "grid_area": null,
              "grid_auto_columns": null,
              "grid_auto_flow": null,
              "grid_auto_rows": null,
              "grid_column": null,
              "grid_gap": null,
              "grid_row": null,
              "grid_template_areas": null,
              "grid_template_columns": null,
              "grid_template_rows": null,
              "height": null,
              "justify_content": null,
              "justify_items": null,
              "left": null,
              "margin": null,
              "max_height": null,
              "max_width": null,
              "min_height": null,
              "min_width": null,
              "object_fit": null,
              "object_position": null,
              "order": null,
              "overflow": null,
              "padding": null,
              "right": null,
              "top": null,
              "visibility": null,
              "width": null
            }
          },
          "a43dc3b4f82341c4b17cd613bdc029a8": {
            "model_module": "@jupyter-widgets/output",
            "model_module_version": "1.0.0",
            "model_name": "OutputModel",
            "state": {
              "_dom_classes": [],
              "_model_module": "@jupyter-widgets/output",
              "_model_module_version": "1.0.0",
              "_model_name": "OutputModel",
              "_view_count": null,
              "_view_module": "@jupyter-widgets/output",
              "_view_module_version": "1.0.0",
              "_view_name": "OutputView",
              "layout": "IPY_MODEL_1fe7880b6aa546bab1cf8a90e53cedee",
              "msg_id": "",
              "outputs": [],
              "tabbable": null,
              "tooltip": null
            }
          },
          "be76f3928422459794176d22f35f42ee": {
            "model_module": "@jupyter-widgets/output",
            "model_module_version": "1.0.0",
            "model_name": "OutputModel",
            "state": {
              "_dom_classes": [],
              "_model_module": "@jupyter-widgets/output",
              "_model_module_version": "1.0.0",
              "_model_name": "OutputModel",
              "_view_count": null,
              "_view_module": "@jupyter-widgets/output",
              "_view_module_version": "1.0.0",
              "_view_name": "OutputView",
              "layout": "IPY_MODEL_8b345d4cb09e4e5089a99c469d95dd2a",
              "msg_id": "",
              "outputs": [],
              "tabbable": null,
              "tooltip": null
            }
          },
          "cd7cb287af3340a0ae4a1f741c767213": {
            "model_module": "@jupyter-widgets/output",
            "model_module_version": "1.0.0",
            "model_name": "OutputModel",
            "state": {
              "_dom_classes": [],
              "_model_module": "@jupyter-widgets/output",
              "_model_module_version": "1.0.0",
              "_model_name": "OutputModel",
              "_view_count": null,
              "_view_module": "@jupyter-widgets/output",
              "_view_module_version": "1.0.0",
              "_view_name": "OutputView",
              "layout": "IPY_MODEL_ead3349fe91049c1bb05aada2bd3955c",
              "msg_id": "",
              "outputs": [],
              "tabbable": null,
              "tooltip": null
            }
          },
          "ead3349fe91049c1bb05aada2bd3955c": {
            "model_module": "@jupyter-widgets/base",
            "model_module_version": "2.0.0",
            "model_name": "LayoutModel",
            "state": {
              "_model_module": "@jupyter-widgets/base",
              "_model_module_version": "2.0.0",
              "_model_name": "LayoutModel",
              "_view_count": null,
              "_view_module": "@jupyter-widgets/base",
              "_view_module_version": "2.0.0",
              "_view_name": "LayoutView",
              "align_content": null,
              "align_items": null,
              "align_self": null,
              "border_bottom": null,
              "border_left": null,
              "border_right": null,
              "border_top": null,
              "bottom": null,
              "display": null,
              "flex": null,
              "flex_flow": null,
              "grid_area": null,
              "grid_auto_columns": null,
              "grid_auto_flow": null,
              "grid_auto_rows": null,
              "grid_column": null,
              "grid_gap": null,
              "grid_row": null,
              "grid_template_areas": null,
              "grid_template_columns": null,
              "grid_template_rows": null,
              "height": null,
              "justify_content": null,
              "justify_items": null,
              "left": null,
              "margin": null,
              "max_height": null,
              "max_width": null,
              "min_height": null,
              "min_width": null,
              "object_fit": null,
              "object_position": null,
              "order": null,
              "overflow": null,
              "padding": null,
              "right": null,
              "top": null,
              "visibility": null,
              "width": null
            }
          }
        },
        "version_major": 2,
        "version_minor": 0
      }
    }
  },
  "nbformat": 4,
  "nbformat_minor": 5
}