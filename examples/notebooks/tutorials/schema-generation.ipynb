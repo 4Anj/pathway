{
  "cells": [
    {
      "cell_type": "markdown",
      "metadata": {
        "id": "view-in-colab"
      },
      "source": [
        "<a href=\"https://colab.research.google.com/github/pathwaycom/pathway/blob/main/examples/notebooks/tutorials/schema-generation.ipynb\" target=\"_parent\"><img src=\"https://pathway.com/assets/colab-badge.svg\" alt=\"Run In Colab\" class=\"inline\"/></a>"
      ]
    },
    {
      "cell_type": "markdown",
      "source": [
        "# Installing Pathway with Python 3.10+\n",
        "\n",
        "In the cell below, we install Pathway into a Python 3.10+ Linux runtime.\n",
        "\n",
        "> **If you are running in Google Colab, please run the colab notebook (Ctrl+F9)**, disregarding the 'not authored by Google' warning.\n",
        "> \n",
        "> **The installation and loading time is less than 1 minute**.\n"
      ],
      "metadata": {
        "id": "notebook-instructions"
      }
    },
    {
      "cell_type": "code",
      "source": [
        "%%capture --no-display\n",
        "!pip install --prefer-binary pathway"
      ],
      "metadata": {
        "id": "pip-installation-pathway",
        "cellView": "form"
      },
      "execution_count": null,
      "outputs": []
    },
    {
      "cell_type": "markdown",
      "id": "320c1712",
      "metadata": {
        "lines_to_next_cell": 2
      },
      "source": [
        "# Automatic Generation of Schema in Pathway\n",
        "\n",
        "In this article, you will learn how to easily generate Schemas, which are used to define the\n",
        "structure of a Pathway Table."
      ]
    },
    {
      "cell_type": "markdown",
      "id": "f4f3ecc3",
      "metadata": {},
      "source": [
        "In Pathway, Schemas are used to define the structure of a Table, that is, names and types\n",
        "of columns. To learn the basics of Schemas in Pathway, and how you can create them by writing\n",
        "a class definition in Python, read our [user guide](/developers/user-guide/types-in-pathway/schema/).\n",
        "In this tutorial, you will learn alternative ways to create Schemas, either by providing a dictionary of column definitions or sample input data in CSV format."
      ]
    },
    {
      "cell_type": "markdown",
      "id": "2dc9a782",
      "metadata": {},
      "source": [
        "To run the examples in this tutorial, you can download the needed files by uncommenting and executing the following code:"
      ]
    },
    {
      "cell_type": "code",
      "execution_count": 1,
      "id": "026d001e",
      "metadata": {
        "execution": {
          "iopub.execute_input": "2024-04-19T11:28:09.552635Z",
          "iopub.status.busy": "2024-04-19T11:28:09.552508Z",
          "iopub.status.idle": "2024-04-19T11:28:09.556532Z",
          "shell.execute_reply": "2024-04-19T11:28:09.556279Z"
        },
        "lines_to_next_cell": 2
      },
      "outputs": [],
      "source": [
        "%%capture --no-display\n",
        "# !wget https://public-pathway-releases.s3.eu-central-1.amazonaws.com/data/schema-generation-sample-data.csv -O data.csv\n",
        "# !wget https://public-pathway-releases.s3.eu-central-1.amazonaws.com/data/schema-generation-schema.json -O schema.json"
      ]
    },
    {
      "cell_type": "markdown",
      "id": "5cc7b2b8",
      "metadata": {},
      "source": [
        "## Schema generation from JSON\n",
        "\n",
        "In Pathway, you can build a Schema from a dictionary using the\n",
        "[schema_builder function](/developers/user-guide/types-in-pathway/schema/#schema-as-a-dictionary), described in our user guide.\n",
        "The values in the dictionary given as an input to `pw.schema_builder`, however, are instances of `pw.column_definition`, which has some limitations, e.g. they can't be easily serialized in a JSON file. For this purpose, in Pathway there is a `pw.schema_from_dict` function, which takes\n",
        "as an input a dictionary whose keys are names of the columns, and values are either:\n",
        "- type of a column\n",
        "- a dictionary with keys \"dtype\", \"primary_key\", \"default_value\", which define respectively the type of the column, whether it is a primary key of the Table, and what is its default value."
      ]
    },
    {
      "cell_type": "markdown",
      "id": "21b1d1a2",
      "metadata": {},
      "source": [
        "To see a working example of `pw.schema_from_dict`, start by creating a JSON file with a definition of the Schema you want to generate."
      ]
    },
    {
      "cell_type": "markdown",
      "id": "ac106c39",
      "metadata": {
        "lines_to_next_cell": 2
      },
      "source": [
        "```JSON\n",
        "{\n",
        "    \"key\": {\n",
        "        \"dtype\": \"int\",\n",
        "        \"primary_key\": true\n",
        "    },\n",
        "    \"name\": {\n",
        "        \"dtype\": \"str\",\n",
        "        \"default_value\": \"\"\n",
        "    },\n",
        "    \"value\": \"int\"\n",
        "}\n",
        "```"
      ]
    },
    {
      "cell_type": "markdown",
      "id": "088241a0",
      "metadata": {},
      "source": [
        "Now, you need to load it into Python, where it will be represented as a `dict` type."
      ]
    },
    {
      "cell_type": "code",
      "execution_count": 2,
      "id": "46d8bea3",
      "metadata": {
        "execution": {
          "iopub.execute_input": "2024-04-19T11:28:09.558247Z",
          "iopub.status.busy": "2024-04-19T11:28:09.558009Z",
          "iopub.status.idle": "2024-04-19T11:28:09.560304Z",
          "shell.execute_reply": "2024-04-19T11:28:09.560064Z"
        }
      },
      "outputs": [],
      "source": [
        "import json\n",
        "\n",
        "with open(\"schema.json\") as f:\n",
        "    schema_definition = json.load(f)"
      ]
    },
    {
      "cell_type": "markdown",
      "id": "c9be80bb",
      "metadata": {},
      "source": [
        "Then all you need to do is pass it as an argument to `pw.schema_from_dict` which will return a Schema object."
      ]
    },
    {
      "cell_type": "code",
      "execution_count": 3,
      "id": "7830bf4e",
      "metadata": {
        "execution": {
          "iopub.execute_input": "2024-04-19T11:28:09.561803Z",
          "iopub.status.busy": "2024-04-19T11:28:09.561570Z",
          "iopub.status.idle": "2024-04-19T11:28:15.564823Z",
          "shell.execute_reply": "2024-04-19T11:28:15.564351Z"
        }
      },
      "outputs": [
        {
          "data": {
            "text/plain": [
              "(<pathway.Schema types={'key': <class 'int'>, 'name': <class 'str'>, 'value': <class 'int'>}, id_type=pathway.engine.Pointer[int]>,\n",
              " ['key'],\n",
              " {'name': ''})"
            ]
          },
          "execution_count": 3,
          "metadata": {},
          "output_type": "execute_result"
        }
      ],
      "source": [
        "import pathway as pw\n",
        "\n",
        "schema = pw.schema_from_dict(schema_definition)\n",
        "\n",
        "# Check the resulting Schema\n",
        "schema, schema.primary_key_columns(), schema.default_values()"
      ]
    },
    {
      "cell_type": "markdown",
      "id": "3b10770e",
      "metadata": {},
      "source": [
        "You can now use the created Schema as an argument to the connector you want to use."
      ]
    },
    {
      "cell_type": "markdown",
      "id": "b43d8a76",
      "metadata": {},
      "source": [
        "## Schema generation from data in a CSV file\n",
        "\n",
        "If you have a CSV file with sample data, you can use it to generate a schema in Pathway. The name of columns will be taken from the header of the CSV file, whereas types of columns are inferred by checking if values in the given column can be parsed to int or float. This method of Schema generation does not support choosing primary keys or setting default values. Still, once you generate a Schema, you can generate a class definition using the method described later in this tutorial and then edit it to suit your needs.\n",
        "\n",
        "To generate a Schema based on a CSV file, use a `pw.schema_from_csv` function. To see how it works, you will use the following example data in CSV format:\n",
        "```csv\n",
        "age,owner,pet\n",
        "10,Alice,dog\n",
        "9,Bob,dog\n",
        "8,Alice,cat\n",
        "7,Bob,dog\n",
        "```"
      ]
    },
    {
      "cell_type": "markdown",
      "id": "aeb8caff",
      "metadata": {},
      "source": [
        "To use `pw.schema_from_csv`, you only need to provide a path of CSV file, but it also has some number of optional arguments:\n",
        "- name - the name of the resulting Schema class\n",
        "- properties - an instance of `SchemaProperties`\n",
        "- delimiter - the delimiter used in the CSV file\n",
        "- comment_character - the character used to denote that a row is a comment\n",
        "- escape - the escape character used in the CSV file\n",
        "- quote - the character used to quote fields\n",
        "- enable_double_quote_escapes - enables escaping quotes by using double quotes\n",
        "- num_parsed_rows - how many rows should be parsed. If None, all rows will be parsed."
      ]
    },
    {
      "cell_type": "markdown",
      "id": "d1b0a06f",
      "metadata": {},
      "source": [
        "For the example, you can use the default values of the optional arguments, so the Python code is:"
      ]
    },
    {
      "cell_type": "code",
      "execution_count": 4,
      "id": "4fa96f5a",
      "metadata": {
        "execution": {
          "iopub.execute_input": "2024-04-19T11:28:15.567031Z",
          "iopub.status.busy": "2024-04-19T11:28:15.566534Z",
          "iopub.status.idle": "2024-04-19T11:28:15.570184Z",
          "shell.execute_reply": "2024-04-19T11:28:15.569861Z"
        }
      },
      "outputs": [
        {
          "data": {
            "text/plain": [
              "<pathway.Schema types={'age': <class 'int'>, 'owner': <class 'str'>, 'pet': <class 'str'>}, id_type=<class 'pathway.engine.Pointer'>>"
            ]
          },
          "execution_count": 4,
          "metadata": {},
          "output_type": "execute_result"
        }
      ],
      "source": [
        "schema = pw.schema_from_csv(\"data.csv\")\n",
        "\n",
        "# Check the resulting Schema\n",
        "schema"
      ]
    },
    {
      "cell_type": "markdown",
      "id": "03f77139",
      "metadata": {},
      "source": [
        "## Persisting generated Schema as a Python class definition\n",
        "\n",
        "If you have a Schema object, you may choose to generate a class definition, either\n",
        "to make the codebase independent of other files you need to generate the Schema or to\n",
        "change it, for example, adding default values to a Schema generated based on a CSV file.\n",
        "\n",
        "To do that, you can use a method in the Schema class called `generate_class` to generate a string with a class definition or `generate_class_to_file` to generate a class definition and save it to a file."
      ]
    },
    {
      "cell_type": "markdown",
      "id": "039b0289",
      "metadata": {},
      "source": [
        "Let's go through an example of using `generate_class` and `generate_class_to_file`. In the example, you will work on the schema generated in the Section on `schema_from_dict`."
      ]
    },
    {
      "cell_type": "code",
      "execution_count": 5,
      "id": "e50d5811",
      "metadata": {
        "execution": {
          "iopub.execute_input": "2024-04-19T11:28:15.571718Z",
          "iopub.status.busy": "2024-04-19T11:28:15.571579Z",
          "iopub.status.idle": "2024-04-19T11:28:15.574285Z",
          "shell.execute_reply": "2024-04-19T11:28:15.573962Z"
        }
      },
      "outputs": [],
      "source": [
        "with open(\"schema.json\") as f:\n",
        "    schema_definition = json.load(f)\n",
        "schema = pw.schema_from_dict(schema_definition)"
      ]
    },
    {
      "cell_type": "markdown",
      "id": "b46a674c",
      "metadata": {},
      "source": [
        "The first method - `generate_class` - has no required arguments, and two optional argument - `class_name`, is the name of the class with the generated Schema and `generate_imports` specifies if imports of modules used in the Class definition should be included in the beginning of the string. If `class_name` is not provided, the schema's name will be used, or if it is not a correct identifier, the default name `CustomSchema` will be used."
      ]
    },
    {
      "cell_type": "code",
      "execution_count": 6,
      "id": "dac2f852",
      "metadata": {
        "execution": {
          "iopub.execute_input": "2024-04-19T11:28:15.575987Z",
          "iopub.status.busy": "2024-04-19T11:28:15.575695Z",
          "iopub.status.idle": "2024-04-19T11:28:15.578157Z",
          "shell.execute_reply": "2024-04-19T11:28:15.577800Z"
        }
      },
      "outputs": [
        {
          "name": "stdout",
          "output_type": "stream",
          "text": [
            "class MySchema(pw.Schema):\n",
            "    key: int = pw.column_definition(primary_key=True)\n",
            "    name: str = pw.column_definition(default_value='')\n",
            "    value: int\n"
          ]
        }
      ],
      "source": [
        "print(schema.generate_class(class_name=\"MySchema\"))"
      ]
    },
    {
      "cell_type": "markdown",
      "id": "44466871",
      "metadata": {},
      "source": [
        "Method `generate_class_to_file` has one required argument, which is the path where class definition is to be saved. Its optional arguments `class_name` and `generate_includes` are the same as for `generate_class` method."
      ]
    },
    {
      "cell_type": "code",
      "execution_count": 7,
      "id": "83226dfa",
      "metadata": {
        "execution": {
          "iopub.execute_input": "2024-04-19T11:28:15.579736Z",
          "iopub.status.busy": "2024-04-19T11:28:15.579442Z",
          "iopub.status.idle": "2024-04-19T11:28:15.583154Z",
          "shell.execute_reply": "2024-04-19T11:28:15.582804Z"
        }
      },
      "outputs": [
        {
          "name": "stdout",
          "output_type": "stream",
          "text": [
            "\n",
            "import pathway as pw\n",
            "\n",
            "class MySchema(pw.Schema):\n",
            "    key: int = pw.column_definition(primary_key=True)\n",
            "    name: str = pw.column_definition(default_value='')\n",
            "    value: int\n"
          ]
        }
      ],
      "source": [
        "schema.generate_class_to_file(\"myschema.py\", class_name=\"MySchema\", generate_imports=True)\n",
        "with open(\"myschema.py\") as f:\n",
        "    print(f.read())"
      ]
    }
  ],
  "metadata": {
    "jupytext": {
      "cell_metadata_filter": "-all",
      "main_language": "python",
      "notebook_metadata_filter": "-all"
    },
    "language_info": {
      "codemirror_mode": {
        "name": "ipython",
        "version": 3
      },
      "file_extension": ".py",
      "mimetype": "text/x-python",
      "name": "python",
      "nbconvert_exporter": "python",
      "pygments_lexer": "ipython3",
      "version": "3.11.8"
    }
  },
  "nbformat": 4,
  "nbformat_minor": 5
}