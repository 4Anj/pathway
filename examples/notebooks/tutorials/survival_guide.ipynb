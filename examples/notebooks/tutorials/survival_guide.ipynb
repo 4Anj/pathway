{
  "cells": [
    {
      "cell_type": "markdown",
      "metadata": {
        "id": "view-in-colab"
      },
      "source": [
        "<a href=\"https://colab.research.google.com/github/pathwaycom/pathway/blob/main/examples/notebooks/tutorials/survival_guide.ipynb\" target=\"_parent\"><img src=\"https://pathway.com/assets/colab-badge.svg\" alt=\"Run In Colab\" class=\"inline\"/></a>"
      ]
    },
    {
      "cell_type": "markdown",
      "source": [
        "# Installing Pathway with Python 3.10+\n",
        "\n",
        "In the cell below, we install Pathway into a Python 3.10+ Linux runtime.\n",
        "\n",
        "> **If you are running in Google Colab, please run the colab notebook (Ctrl+F9)**, disregarding the 'not authored by Google' warning.\n",
        "> \n",
        "> **The installation and loading time is less than 1 minute**.\n"
      ],
      "metadata": {
        "id": "notebook-instructions"
      }
    },
    {
      "cell_type": "code",
      "source": [
        "%%capture --no-display\n",
        "!pip install --prefer-binary pathway"
      ],
      "metadata": {
        "id": "pip-installation-pathway",
        "cellView": "form"
      },
      "execution_count": null,
      "outputs": []
    },
    {
      "cell_type": "markdown",
      "id": "16a0a735",
      "metadata": {},
      "source": [
        "# Basic operations\n",
        "Must-read for first-timers and veterans alike, this guide gathers the most commonly used basic elements of Pathway.\n",
        "\n",
        "\n",
        "While the Pathway programming framework comes with advanced functionalities such as [classifiers](/developers/showcases/lsh/lsh_chapter1) or [fuzzy-joins](/developers/showcases/fuzzy_join/fuzzy_join_chapter1), it is essential to master the basic operations at the core of the framework.\n",
        "As part of this basic operations guide, we are going to walk through the following topics:\n",
        "* [Streaming and static modes](#streaming-and-static-modes)\n",
        "* [Starting with data](#starting-with-data)\n",
        "* [Select and notations](#select-and-notations)\n",
        "* [Manipulating the table](#manipulating-the-table)\n",
        "* [Working with multiples tables: union, concatenation, join](#working-with-multiple-tables-union-concatenation-join)\n",
        "* [Updating](#updating)\n",
        "* [Computing](#operations)\n",
        "\n",
        "If you want more information you can review our complete [API docs](/developers/api-docs/pathway) or some of our [tutorials](/developers/showcases/suspicious_activity_tumbling_window)."
      ]
    },
    {
      "cell_type": "markdown",
      "id": "661b8856",
      "metadata": {},
      "source": [
        "## Streaming and static modes\n",
        "\n",
        "The first thing to keep in mind is that Pathway is made for streaming data.\n",
        "In this **streaming mode**, Pathway assumes unbounded incoming updates.\n",
        "To process the incoming data, Pathway maintains a [dataflow](/developers/user-guide/introduction/concepts#dataflow).\n",
        "This mode requires input connectors listening to streaming data sources.\n",
        "The computation runs indefinitely until the process is killed: the computation starts when [`pw.run`](/developers/api-docs/pathway/#pathway.run) is called and everything afterwards is unreachable code.\n",
        "\n",
        "However, the streaming mode may not be the most convenient when testing or debugging.\n",
        "For that purpose, Pathway provides a **static mode** in which static data may be attached to the connectors.\n",
        "In that mode, finite and static data can be loaded, e.g. from a table written in a static CSV file or from a markdown table.\n",
        "\n",
        "When the computation is run in the static mode, all the data is loaded and processed at once.\n",
        "While the static mode does not fully benefit from the dataflow, it allows checking if the graph is correctly built.\n",
        "To ease the debugging, Pathway provides a function called [`compute_and_print`](/developers/api-docs/debug#pathway.debug.compute_and_print).\n",
        "When calling `pw.debug.compute_and_print(t)`, Pathway builds the whole graph, ingests all the available static data, prints the obtained table `t`, and then discards the data.\n",
        "Calling twice `compute_and_print` will result in ingesting the whole data twice.\n",
        "In the streaming mode, the building of the graph and the ingestion of the data is done only once when `pw.run()` is called and the data is maintained in the graph until the computation is over: results cannot be printed but should be accessed using output connectors.\n",
        "\n",
        "The processing pipeline should be designed in the same way no matter what mode is used in the end. The only difference is how the data is considered.\n",
        "\n",
        "To learn more about both modes, you can read our [article](/developers/user-guide/connecting-to-data/streaming-and-static-modes/) about it.\n",
        "\n",
        "In most of our examples, we use the static mode since it avoids setting external streaming data sources such as Kafka."
      ]
    },
    {
      "cell_type": "markdown",
      "id": "0e38b557",
      "metadata": {},
      "source": [
        "## Starting with data\n",
        "\n",
        "Be sure to always import Pathway."
      ]
    },
    {
      "cell_type": "code",
      "execution_count": 1,
      "id": "7e78beca",
      "metadata": {
        "execution": {
          "iopub.execute_input": "2024-04-24T04:33:52.139933Z",
          "iopub.status.busy": "2024-04-24T04:33:52.139844Z",
          "iopub.status.idle": "2024-04-24T04:33:54.084939Z",
          "shell.execute_reply": "2024-04-24T04:33:54.084655Z"
        }
      },
      "outputs": [],
      "source": [
        "import pathway as pw"
      ]
    },
    {
      "cell_type": "markdown",
      "id": "2a853822",
      "metadata": {},
      "source": [
        "Now you need tables to manipulate.\n",
        "The way tables are obtained depends on whether you are on streaming or static mode.\n",
        "In this article, you will be using the static mode to be able to show the behavior of each processing step, but keep in mind that Pathway is made for the streaming mode.\n",
        "\n",
        "### Static mode\n",
        "In the static mode, you can manually enter a table using a markdown connector. Here are the (static) tables you will be using:"
      ]
    },
    {
      "cell_type": "code",
      "execution_count": 2,
      "id": "7d7cf9c8",
      "metadata": {
        "execution": {
          "iopub.execute_input": "2024-04-24T04:33:54.086978Z",
          "iopub.status.busy": "2024-04-24T04:33:54.086656Z",
          "iopub.status.idle": "2024-04-24T04:33:54.101852Z",
          "shell.execute_reply": "2024-04-24T04:33:54.101622Z"
        }
      },
      "outputs": [],
      "source": [
        "t_name = pw.debug.table_from_markdown(\n",
        "    \"\"\"\n",
        "    | name\n",
        " 1  | Alice\n",
        " 2  | Bob\n",
        " 3  | Carole\n",
        " \"\"\"\n",
        ")\n",
        "t_age = pw.debug.table_from_markdown(\n",
        "    \"\"\"\n",
        "    | age\n",
        " 1  | 25\n",
        " 2  | 32\n",
        " 3  | 28\n",
        " \"\"\"\n",
        ")\n",
        "t_david = pw.debug.table_from_markdown(\n",
        "    \"\"\"\n",
        "    | name  | age\n",
        " 4  | David | 25\n",
        " \"\"\"\n",
        ")"
      ]
    },
    {
      "cell_type": "markdown",
      "id": "061eb0fc",
      "metadata": {},
      "source": [
        "You can display a snapshot of our table (for debugging purposes) using [`pw.debug.compute_and_print`](/developers/api-docs/debug#pathway.debug.compute_and_print):"
      ]
    },
    {
      "cell_type": "code",
      "execution_count": 3,
      "id": "f98b2173",
      "metadata": {
        "execution": {
          "iopub.execute_input": "2024-04-24T04:33:54.103125Z",
          "iopub.status.busy": "2024-04-24T04:33:54.102965Z",
          "iopub.status.idle": "2024-04-24T04:33:54.144353Z",
          "shell.execute_reply": "2024-04-24T04:33:54.144137Z"
        }
      },
      "outputs": [
        {
          "name": "stderr",
          "output_type": "stream",
          "text": [
            "[2024-04-24T06:33:54]:INFO:Preparing Pathway computation\n"
          ]
        },
        {
          "name": "stdout",
          "output_type": "stream",
          "text": [
            "            | name\n",
            "^YYY4HAB... | Alice\n",
            "^Z3QWT29... | Bob\n",
            "^3CZ78B4... | Carole\n"
          ]
        }
      ],
      "source": [
        "pw.debug.compute_and_print(t_name)"
      ]
    },
    {
      "cell_type": "markdown",
      "id": "d9ff61e3",
      "metadata": {},
      "source": [
        "In the following, let's omit the `pw.debug.compute_and_print()` for clarity reasons but keep in mind that it is required to print the actual *static* data at a given time.\n",
        "\n",
        "\n",
        "### Streaming mode\n",
        "In the streaming mode, those tables would be obtained using one of the [connectors](/developers/user-guide/connecting-to-data/connectors/) provided by Pathway.\n",
        "For example, we could use [`pw.io.kafka.read`](/developers/api-docs/pathway-io/kafka/#pathway.io.kafka.read) to obtain the table from Kafka.\n",
        "The results should be taken out of Pathway using an output connector: we could send the data to postgresql using [`pw.io.progresql.write`](/developers/api-docs/pathway-io/postgres/#pathway.io.postgres.write) for instance.\n",
        "Otherwise, the way the data is manipulated is exactly the same in both modes."
      ]
    },
    {
      "cell_type": "markdown",
      "id": "ee57c535",
      "metadata": {},
      "source": [
        "## Select and notations\n",
        "\n",
        " The main way to manipulate a table in Pathway is by using the [`select`](/developers/api-docs/pathway-table#pathway.Table.select) operation.\n",
        "\n",
        " * **The dot notation**: you can use `select` to select a particular column and you can use the dot notation to specify the name of the column. For example, you can access the column \"name\" of your `t_david` table:"
      ]
    },
    {
      "cell_type": "code",
      "execution_count": 4,
      "id": "86790fae",
      "metadata": {
        "execution": {
          "iopub.execute_input": "2024-04-24T04:33:54.145482Z",
          "iopub.status.busy": "2024-04-24T04:33:54.145306Z",
          "iopub.status.idle": "2024-04-24T04:33:54.151944Z",
          "shell.execute_reply": "2024-04-24T04:33:54.151740Z"
        }
      },
      "outputs": [
        {
          "name": "stderr",
          "output_type": "stream",
          "text": [
            "[2024-04-24T06:33:54]:INFO:Preparing Pathway computation\n"
          ]
        },
        {
          "name": "stdout",
          "output_type": "stream",
          "text": [
            "            | name\n",
            "^3HN31E1... | David\n"
          ]
        }
      ],
      "source": [
        "t_david.select(t_david.name)"
      ]
    },
    {
      "cell_type": "markdown",
      "id": "d93f702d",
      "metadata": {},
      "source": [
        " * **The bracket notation**: you can also use string to access the column **the bracket notation**. The previous example is equivalent to ```t_david.select(t_david[\"name\"])```."
      ]
    },
    {
      "cell_type": "markdown",
      "id": "2ccb87a1",
      "metadata": {},
      "source": [
        " * The **this notation**: to refer to the table currently manipulated you can use [`pw.this`](/developers/api-docs/pathway/#pathway.this). Our example becomes `t_david.select(pw.this.name)`.\n",
        "This notation works for all standard transformers.\n",
        "    > It can be used to refer to the table, even if it has not been given a name, for example in successive operations:"
      ]
    },
    {
      "cell_type": "code",
      "execution_count": 5,
      "id": "e1507059",
      "metadata": {
        "execution": {
          "iopub.execute_input": "2024-04-24T04:33:54.153079Z",
          "iopub.status.busy": "2024-04-24T04:33:54.152883Z",
          "iopub.status.idle": "2024-04-24T04:33:54.163407Z",
          "shell.execute_reply": "2024-04-24T04:33:54.163183Z"
        },
        "lines_to_next_cell": 2
      },
      "outputs": [
        {
          "name": "stderr",
          "output_type": "stream",
          "text": [
            "[2024-04-24T06:33:54]:INFO:Preparing Pathway computation\n"
          ]
        },
        {
          "name": "stdout",
          "output_type": "stream",
          "text": [
            "            | new_age_plus_7\n",
            "^3HN31E1... | 32\n"
          ]
        }
      ],
      "source": [
        "t_new_age = t_david.select(new_age=pw.this.age).select(\n",
        "    new_age_plus_7=pw.this.new_age + 7\n",
        ")\n",
        "t_new_age"
      ]
    },
    {
      "cell_type": "markdown",
      "id": "94333795",
      "metadata": {},
      "source": [
        "In this example, it would be impossible to refer to the table obtained after the first select (with the column `new_age`) without using `pw.this` as `t_david` still refers to the initial and unmodified table."
      ]
    },
    {
      "cell_type": "markdown",
      "id": "b0d3e557",
      "metadata": {},
      "source": [
        " * **left and right notations**: similarly to the this notation, [`pw.left`](/developers/api-docs/pathway/#pathway.left) and [`pw.right`](/developers/api-docs/pathway/#pathway.right) can be used to manipulate the different tables used in a [join](#working-with-multiples-tables-union-concatenation-join) ([`.join`](/developers/api-docs/pathway-table#pathway.Table.join)).\n",
        "    > `left_table.join(right_table, pw.left.C1==pw.right.C2).select(pw.left.C3, pw.right.C4)`\n",
        "\n",
        "For more information about the join and the use of `pw.left` and `pw.right`, you can see the dedicated [section](#working-with-multiples-tables-union-concatenation-join) and [manual](/developers/user-guide/data-transformation/join-manual/)."
      ]
    },
    {
      "cell_type": "markdown",
      "id": "57a932df",
      "metadata": {},
      "source": [
        " * The **star * notation**: this notation is used to select all the columns of the manipulated table. `table.select(*pw.this)` will return the full table.\n",
        "It can be combined with [`.without`](/developers/api-docs/pathway-table#pathway.Table.without) to remove the unwanted columns:\n",
        "\n",
        "    > In our example, instead of selecting the \"name\" column, you could want to select all the columns except the \"age\" one. This is obtained as follows:"
      ]
    },
    {
      "cell_type": "code",
      "execution_count": 6,
      "id": "9cc1cce4",
      "metadata": {
        "execution": {
          "iopub.execute_input": "2024-04-24T04:33:54.164614Z",
          "iopub.status.busy": "2024-04-24T04:33:54.164416Z",
          "iopub.status.idle": "2024-04-24T04:33:54.169518Z",
          "shell.execute_reply": "2024-04-24T04:33:54.169291Z"
        }
      },
      "outputs": [
        {
          "name": "stderr",
          "output_type": "stream",
          "text": [
            "[2024-04-24T06:33:54]:INFO:Preparing Pathway computation\n"
          ]
        },
        {
          "name": "stdout",
          "output_type": "stream",
          "text": [
            "            | name\n",
            "^3HN31E1... | David\n"
          ]
        }
      ],
      "source": [
        "t_david.without(\"age\")"
      ]
    },
    {
      "cell_type": "markdown",
      "id": "0f42c2d7",
      "metadata": {},
      "source": [
        "\u26a0\ufe0f Note on **column names**: column names are **case sensitive** and *any* string can be used as column name using the bracket notation.\n",
        "However it is not the case for the dot notation which is restricted by standard Python syntax.\n",
        "For instance, the dot notation does not allow names with space: using `t.select(t[\"my name\"])` works while `t.select(t.my name)` will produce an error.\n",
        "By convention, we advocate to follow the Python variable naming convention which is to use only the special character \"\\_\" in addition to alphanumeric characters, and not to start with a number."
      ]
    },
    {
      "cell_type": "markdown",
      "id": "3fe2de85",
      "metadata": {},
      "source": [
        "## Manipulating the table\n",
        "\n",
        "In addition to `select`, Pathway provides more operators to manipulate and index the tables."
      ]
    },
    {
      "cell_type": "markdown",
      "id": "bc36a0ff",
      "metadata": {},
      "source": [
        " * **Filtering**: we can use [`filter`](/developers/api-docs/pathway-table#pathway.Table.filter) to keep rows following a given property."
      ]
    },
    {
      "cell_type": "code",
      "execution_count": 7,
      "id": "3460eec8",
      "metadata": {
        "execution": {
          "iopub.execute_input": "2024-04-24T04:33:54.170659Z",
          "iopub.status.busy": "2024-04-24T04:33:54.170446Z",
          "iopub.status.idle": "2024-04-24T04:33:54.182162Z",
          "shell.execute_reply": "2024-04-24T04:33:54.181952Z"
        }
      },
      "outputs": [
        {
          "name": "stderr",
          "output_type": "stream",
          "text": [
            "[2024-04-24T06:33:54]:INFO:Preparing Pathway computation\n"
          ]
        },
        {
          "name": "stdout",
          "output_type": "stream",
          "text": [
            "            | is_adult\n",
            "^6A0QZMJ... | True\n",
            "^3S2X6B2... | True\n"
          ]
        }
      ],
      "source": [
        "t_adult = pw.debug.table_from_markdown(\n",
        "    \"\"\"\n",
        "    | is_adult\n",
        " 5  | True\n",
        " 6  | False\n",
        " 7  | True\n",
        " \"\"\"\n",
        ")\n",
        "t_adult.filter(pw.this.is_adult)"
      ]
    },
    {
      "cell_type": "markdown",
      "id": "37d88d72",
      "metadata": {},
      "source": [
        "You can use standard python operators, including arithmetic operators such as `+`, `-`, `*`, `/`, `//`, `<`, `>`, or `~`:"
      ]
    },
    {
      "cell_type": "code",
      "execution_count": 8,
      "id": "354dba7e",
      "metadata": {
        "execution": {
          "iopub.execute_input": "2024-04-24T04:33:54.183310Z",
          "iopub.status.busy": "2024-04-24T04:33:54.183117Z",
          "iopub.status.idle": "2024-04-24T04:33:54.193140Z",
          "shell.execute_reply": "2024-04-24T04:33:54.192927Z"
        }
      },
      "outputs": [
        {
          "name": "stderr",
          "output_type": "stream",
          "text": [
            "[2024-04-24T06:33:54]:INFO:Preparing Pathway computation\n"
          ]
        },
        {
          "name": "stdout",
          "output_type": "stream",
          "text": [
            "            | age\n",
            "^Z3QWT29... | 32\n"
          ]
        }
      ],
      "source": [
        "t_age.filter(pw.this.age>30)"
      ]
    },
    {
      "cell_type": "markdown",
      "id": "c792f525",
      "metadata": {},
      "source": [
        "You can also use the logical operations AND (`&`), OR (`|`) and NOT (`~`):"
      ]
    },
    {
      "cell_type": "code",
      "execution_count": 9,
      "id": "638555e1",
      "metadata": {
        "execution": {
          "iopub.execute_input": "2024-04-24T04:33:54.194183Z",
          "iopub.status.busy": "2024-04-24T04:33:54.194006Z",
          "iopub.status.idle": "2024-04-24T04:33:54.202239Z",
          "shell.execute_reply": "2024-04-24T04:33:54.202037Z"
        }
      },
      "outputs": [
        {
          "name": "stderr",
          "output_type": "stream",
          "text": [
            "[2024-04-24T06:33:54]:INFO:Preparing Pathway computation\n"
          ]
        },
        {
          "name": "stdout",
          "output_type": "stream",
          "text": [
            "            | is_adult\n",
            "^A984WV0... | False\n"
          ]
        }
      ],
      "source": [
        "t_adult.filter(~pw.this.is_adult)"
      ]
    },
    {
      "cell_type": "markdown",
      "id": "0210237a",
      "metadata": {},
      "source": [
        " * **Reindexing**: you can change the ids (accessible by `table.id`) by using [`.with_id_from()`](/developers/api-docs/pathway-table#pathway.Table.with_id_from).\n",
        "You need a table with new ids:"
      ]
    },
    {
      "cell_type": "code",
      "execution_count": 10,
      "id": "8bca5861",
      "metadata": {
        "execution": {
          "iopub.execute_input": "2024-04-24T04:33:54.203339Z",
          "iopub.status.busy": "2024-04-24T04:33:54.203169Z",
          "iopub.status.idle": "2024-04-24T04:33:54.208650Z",
          "shell.execute_reply": "2024-04-24T04:33:54.208435Z"
        }
      },
      "outputs": [],
      "source": [
        "t_new_ids = pw.debug.table_from_markdown(\n",
        "    \"\"\"\n",
        "    | new_id_source\n",
        " 1  | 4\n",
        " 2  | 5\n",
        " 3  | 6\n",
        " \"\"\"\n",
        ")"
      ]
    },
    {
      "cell_type": "code",
      "execution_count": 11,
      "id": "5e9e5e52",
      "metadata": {
        "execution": {
          "iopub.execute_input": "2024-04-24T04:33:54.209801Z",
          "iopub.status.busy": "2024-04-24T04:33:54.209591Z",
          "iopub.status.idle": "2024-04-24T04:33:54.221088Z",
          "shell.execute_reply": "2024-04-24T04:33:54.220876Z"
        }
      },
      "outputs": [
        {
          "name": "stderr",
          "output_type": "stream",
          "text": [
            "[2024-04-24T06:33:54]:INFO:Preparing Pathway computation\n"
          ]
        },
        {
          "name": "stdout",
          "output_type": "stream",
          "text": [
            "            | name\n",
            "^3HN31E1... | Alice\n",
            "^3S2X6B2... | Bob\n",
            "^A984WV0... | Carole\n"
          ]
        }
      ],
      "source": [
        "t_name.with_id_from(t_new_ids.new_id_source)"
      ]
    },
    {
      "cell_type": "markdown",
      "id": "e55b60b6",
      "metadata": {},
      "source": [
        "* **ix_ref**: uses a column's values as indexes.\n",
        "As an example, if you have a table containing indexes pointing to another table, you can use this [`ix_ref`](/developers/api-docs/pathway-table#pathway.Table.ix_ref) to obtain those lines:"
      ]
    },
    {
      "cell_type": "code",
      "execution_count": 12,
      "id": "6cecffe5",
      "metadata": {
        "execution": {
          "iopub.execute_input": "2024-04-24T04:33:54.222155Z",
          "iopub.status.busy": "2024-04-24T04:33:54.221944Z",
          "iopub.status.idle": "2024-04-24T04:33:54.235755Z",
          "shell.execute_reply": "2024-04-24T04:33:54.235533Z"
        }
      },
      "outputs": [
        {
          "name": "stderr",
          "output_type": "stream",
          "text": [
            "[2024-04-24T06:33:54]:INFO:Preparing Pathway computation\n"
          ]
        },
        {
          "name": "stdout",
          "output_type": "stream",
          "text": [
            "            | selected\n",
            "^1BNYXQH... | Alice\n",
            "^PTQENR4... | Carole\n"
          ]
        }
      ],
      "source": [
        "t_selected_ids = pw.debug.table_from_markdown(\n",
        "    \"\"\"\n",
        "      | selected_id\n",
        " 100  | 1\n",
        " 200  | 3\n",
        " \"\"\"\n",
        ")\n",
        "t_selected_ids.select(selected=t_name.ix_ref(t_selected_ids.selected_id).name)"
      ]
    },
    {
      "cell_type": "markdown",
      "id": "174a075a",
      "metadata": {},
      "source": [
        "* **Group-by**: we can use [`groupby`](/developers/api-docs/pathway-table#pathway.Table.groupby) to aggregate data sharing a common property and then use a reducer to compute an aggregated value."
      ]
    },
    {
      "cell_type": "code",
      "execution_count": 13,
      "id": "2858e445",
      "metadata": {
        "execution": {
          "iopub.execute_input": "2024-04-24T04:33:54.236796Z",
          "iopub.status.busy": "2024-04-24T04:33:54.236626Z",
          "iopub.status.idle": "2024-04-24T04:33:54.261565Z",
          "shell.execute_reply": "2024-04-24T04:33:54.261353Z"
        }
      },
      "outputs": [
        {
          "name": "stderr",
          "output_type": "stream",
          "text": [
            "[2024-04-24T06:33:54]:INFO:Preparing Pathway computation\n"
          ]
        },
        {
          "name": "stdout",
          "output_type": "stream",
          "text": [
            "            | name  | sum\n",
            "^GBSDEEW... | Alice | 175\n",
            "^EDPSSB1... | Bob   | 300\n"
          ]
        }
      ],
      "source": [
        "t_spending = pw.debug.table_from_markdown(\n",
        "    \"\"\"\n",
        "    | name  | amount\n",
        " 1  | Bob   | 100\n",
        " 2  | Alice | 50\n",
        " 3  | Alice | 125\n",
        " 4  | Bob   | 200\n",
        " \"\"\"\n",
        ")\n",
        "t_spending.groupby(pw.this.name).reduce(pw.this.name, sum=pw.reducers.sum(pw.this.amount))"
      ]
    },
    {
      "cell_type": "markdown",
      "id": "12bfdb81",
      "metadata": {},
      "source": [
        "You can do groupbys on multiple columns at once (e.g. `.groupby(t.colA, t.colB)`).\n",
        "The list of all the available reducers can be found [here](/developers/api-docs/reducers).\n",
        "\n",
        "If you want to find out more about the [`groupby`](/developers/api-docs/pathway-table#pathway.Table.groupby) and [`reduce`](/developers/api-docs/pathway/#pathway.GroupedTable.reduce) operations, you can read our [article](/developers/user-guide/data-transformation/groupby-reduce-manual/) about it.\n",
        "\n",
        "## Working with multiples tables: union, concatenation, join\n",
        "\n",
        " * **Union**: we can use the operator `+` or `+=` to compute the union of two tables sharing the same ids."
      ]
    },
    {
      "cell_type": "code",
      "execution_count": 14,
      "id": "58bd96ba",
      "metadata": {
        "execution": {
          "iopub.execute_input": "2024-04-24T04:33:54.262589Z",
          "iopub.status.busy": "2024-04-24T04:33:54.262471Z",
          "iopub.status.idle": "2024-04-24T04:33:54.270239Z",
          "shell.execute_reply": "2024-04-24T04:33:54.270038Z"
        }
      },
      "outputs": [
        {
          "name": "stderr",
          "output_type": "stream",
          "text": [
            "[2024-04-24T06:33:54]:INFO:Preparing Pathway computation\n"
          ]
        },
        {
          "name": "stdout",
          "output_type": "stream",
          "text": [
            "            | name   | age\n",
            "^YYY4HAB... | Alice  | 25\n",
            "^Z3QWT29... | Bob    | 32\n",
            "^3CZ78B4... | Carole | 28\n"
          ]
        }
      ],
      "source": [
        "t_union = t_name + t_age\n",
        ""
      ]
    },
    {
      "cell_type": "markdown",
      "id": "bcd21bce",
      "metadata": {},
      "source": [
        "* **Concatenation**: you can use [`concat`](/developers/api-docs/pathway-table#pathway.Table.concat) to concatenate two tables, but they need to have disjoint ids."
      ]
    },
    {
      "cell_type": "code",
      "execution_count": 15,
      "id": "7f2ce11d",
      "metadata": {
        "execution": {
          "iopub.execute_input": "2024-04-24T04:33:54.271294Z",
          "iopub.status.busy": "2024-04-24T04:33:54.271092Z",
          "iopub.status.idle": "2024-04-24T04:33:54.302840Z",
          "shell.execute_reply": "2024-04-24T04:33:54.302623Z"
        }
      },
      "outputs": [
        {
          "name": "stderr",
          "output_type": "stream",
          "text": [
            "[2024-04-24T06:33:54]:INFO:Preparing Pathway computation\n"
          ]
        },
        {
          "name": "stdout",
          "output_type": "stream",
          "text": [
            "            | name   | age\n",
            "^YYY4HAB... | Alice  | 25\n",
            "^Z3QWT29... | Bob    | 32\n",
            "^3CZ78B4... | Carole | 28\n",
            "^3HN31E1... | David  | 25\n"
          ]
        }
      ],
      "source": [
        "pw.universes.promise_are_pairwise_disjoint(t_union, t_david)\n",
        "pw.Table.concat(t_union,t_david)"
      ]
    },
    {
      "cell_type": "markdown",
      "id": "31e83e77",
      "metadata": {},
      "source": [
        "As you can see, Pathway keeps the index.\n",
        "If you are concatenating tables with overlapping indexes, you can use [`concat_reindex`](/developers/api-docs/pathway-table#pathway.Table.concat_reindex) which will concat the tables and produce a new index.\n",
        "\n",
        "> **Info for Databricks Delta users**: Concatenation is highly similar to the SQL [`MERGE INTO`](https://docs.databricks.com/sql/language-manual/delta-merge-into.html).\n",
        "\n",
        "* **Join**: you can do all usual types of joins in Pathway (inner, outer, left, right). The example below presents an inner join:"
      ]
    },
    {
      "cell_type": "code",
      "execution_count": 16,
      "id": "416b21bc",
      "metadata": {
        "execution": {
          "iopub.execute_input": "2024-04-24T04:33:54.303922Z",
          "iopub.status.busy": "2024-04-24T04:33:54.303710Z",
          "iopub.status.idle": "2024-04-24T04:33:54.323494Z",
          "shell.execute_reply": "2024-04-24T04:33:54.323291Z"
        }
      },
      "outputs": [
        {
          "name": "stderr",
          "output_type": "stream",
          "text": [
            "[2024-04-24T06:33:54]:INFO:Preparing Pathway computation\n"
          ]
        },
        {
          "name": "stdout",
          "output_type": "stream",
          "text": [
            "            | age | name\n",
            "^04VMVCM... | 25  | Alice\n",
            "^TT1GT7R... | 28  | Carole\n",
            "^GFBMT58... | 32  | Bob\n"
          ]
        }
      ],
      "source": [
        "t_age.join(t_name, t_age.id==t_name.id).select(t_age.age, t_name.name)"
      ]
    },
    {
      "cell_type": "markdown",
      "id": "2e3b9f68",
      "metadata": {},
      "source": [
        "Note that in the equality `t_age.id==t_name.id` the left part must be a column of the table on which the join is done, namely `t_name` in our example. Doing `t_name.id==t_age.id` would throw an error.\n",
        "\n",
        "For more visibility, the `pw.left` and `pw.right` notations should be used:"
      ]
    },
    {
      "cell_type": "code",
      "execution_count": 17,
      "id": "8aee082b",
      "metadata": {
        "execution": {
          "iopub.execute_input": "2024-04-24T04:33:54.324637Z",
          "iopub.status.busy": "2024-04-24T04:33:54.324432Z",
          "iopub.status.idle": "2024-04-24T04:33:54.345121Z",
          "shell.execute_reply": "2024-04-24T04:33:54.344899Z"
        }
      },
      "outputs": [
        {
          "name": "stderr",
          "output_type": "stream",
          "text": [
            "[2024-04-24T06:33:54]:INFO:Preparing Pathway computation\n"
          ]
        },
        {
          "name": "stdout",
          "output_type": "stream",
          "text": [
            "            | age | name\n",
            "^04VMVCM... | 25  | Alice\n",
            "^TT1GT7R... | 28  | Carole\n",
            "^GFBMT58... | 32  | Bob\n"
          ]
        }
      ],
      "source": [
        "t_age.join(t_name, pw.left.id == pw.right.id).select(pw.left.age, pw.right.name)"
      ]
    },
    {
      "cell_type": "markdown",
      "id": "b6a97670",
      "metadata": {},
      "source": [
        "If you want more info about joins, we have an entire [manu\\[a\\]l](/developers/user-guide/data-transformation/join-manual/) about it!\n",
        "\n",
        "## Updating\n",
        "\n",
        "* **Adding a new column with a default value** with `select`:"
      ]
    },
    {
      "cell_type": "code",
      "execution_count": 18,
      "id": "1d95ae1b",
      "metadata": {
        "execution": {
          "iopub.execute_input": "2024-04-24T04:33:54.346177Z",
          "iopub.status.busy": "2024-04-24T04:33:54.345975Z",
          "iopub.status.idle": "2024-04-24T04:33:54.352733Z",
          "shell.execute_reply": "2024-04-24T04:33:54.352527Z"
        }
      },
      "outputs": [
        {
          "name": "stderr",
          "output_type": "stream",
          "text": [
            "[2024-04-24T06:33:54]:INFO:Preparing Pathway computation\n"
          ]
        },
        {
          "name": "stdout",
          "output_type": "stream",
          "text": [
            "            | age | adult\n",
            "^YYY4HAB... | 25  | True\n",
            "^3CZ78B4... | 28  | True\n",
            "^Z3QWT29... | 32  | True\n"
          ]
        }
      ],
      "source": [
        "t_age.select(*pw.this, adult=True)"
      ]
    },
    {
      "cell_type": "markdown",
      "id": "214d1f42",
      "metadata": {},
      "source": [
        "The value can be a basic operation on the columns:"
      ]
    },
    {
      "cell_type": "code",
      "execution_count": 19,
      "id": "f84ef642",
      "metadata": {
        "execution": {
          "iopub.execute_input": "2024-04-24T04:33:54.353823Z",
          "iopub.status.busy": "2024-04-24T04:33:54.353630Z",
          "iopub.status.idle": "2024-04-24T04:33:54.362787Z",
          "shell.execute_reply": "2024-04-24T04:33:54.362561Z"
        }
      },
      "outputs": [
        {
          "name": "stderr",
          "output_type": "stream",
          "text": [
            "[2024-04-24T06:33:54]:INFO:Preparing Pathway computation\n"
          ]
        },
        {
          "name": "stdout",
          "output_type": "stream",
          "text": [
            "            | age | thirties\n",
            "^YYY4HAB... | 25  | False\n",
            "^3CZ78B4... | 28  | False\n",
            "^Z3QWT29... | 32  | True\n"
          ]
        }
      ],
      "source": [
        "t_age.select(*pw.this, thirties=pw.this.age>=30)"
      ]
    },
    {
      "cell_type": "markdown",
      "id": "ed6b21d7",
      "metadata": {},
      "source": [
        "* **Renaming** with `select`:"
      ]
    },
    {
      "cell_type": "code",
      "execution_count": 20,
      "id": "38924adb",
      "metadata": {
        "execution": {
          "iopub.execute_input": "2024-04-24T04:33:54.363848Z",
          "iopub.status.busy": "2024-04-24T04:33:54.363676Z",
          "iopub.status.idle": "2024-04-24T04:33:54.369669Z",
          "shell.execute_reply": "2024-04-24T04:33:54.369466Z"
        }
      },
      "outputs": [
        {
          "name": "stderr",
          "output_type": "stream",
          "text": [
            "[2024-04-24T06:33:54]:INFO:Preparing Pathway computation\n"
          ]
        },
        {
          "name": "stdout",
          "output_type": "stream",
          "text": [
            "            | surname\n",
            "^YYY4HAB... | Alice\n",
            "^Z3QWT29... | Bob\n",
            "^3CZ78B4... | Carole\n"
          ]
        }
      ],
      "source": [
        "t_name.select(surname=pw.this.name)"
      ]
    },
    {
      "cell_type": "markdown",
      "id": "5b9ee898",
      "metadata": {
        "lines_to_next_cell": 2
      },
      "source": [
        " * **Renaming** with [`rename`](/developers/api-docs/pathway-table#pathway.Table.rename):"
      ]
    },
    {
      "cell_type": "code",
      "execution_count": 21,
      "id": "7a057011",
      "metadata": {
        "execution": {
          "iopub.execute_input": "2024-04-24T04:33:54.370680Z",
          "iopub.status.busy": "2024-04-24T04:33:54.370510Z",
          "iopub.status.idle": "2024-04-24T04:33:54.377037Z",
          "shell.execute_reply": "2024-04-24T04:33:54.376820Z"
        }
      },
      "outputs": [
        {
          "name": "stderr",
          "output_type": "stream",
          "text": [
            "[2024-04-24T06:33:54]:INFO:Preparing Pathway computation\n"
          ]
        },
        {
          "name": "stdout",
          "output_type": "stream",
          "text": [
            "            | surname\n",
            "^YYY4HAB... | Alice\n",
            "^Z3QWT29... | Bob\n",
            "^3CZ78B4... | Carole\n"
          ]
        }
      ],
      "source": [
        "t_name.rename(surname=pw.this.name)"
      ]
    },
    {
      "cell_type": "markdown",
      "id": "87257f2e",
      "metadata": {},
      "source": [
        " * **Updating cells**: you can update the values of cells using [`update_cells`](/developers/api-docs/pathway-table#pathway.Table.update_cells) which can be also done using the binary operator `<<`. The ids and column names should be the same."
      ]
    },
    {
      "cell_type": "code",
      "execution_count": 22,
      "id": "490626b7",
      "metadata": {
        "execution": {
          "iopub.execute_input": "2024-04-24T04:33:54.378093Z",
          "iopub.status.busy": "2024-04-24T04:33:54.377901Z",
          "iopub.status.idle": "2024-04-24T04:33:54.391761Z",
          "shell.execute_reply": "2024-04-24T04:33:54.391543Z"
        }
      },
      "outputs": [
        {
          "name": "stderr",
          "output_type": "stream",
          "text": [
            "[2024-04-24T06:33:54]:INFO:Preparing Pathway computation\n"
          ]
        },
        {
          "name": "stdout",
          "output_type": "stream",
          "text": [
            "            | name\n",
            "^YYY4HAB... | Alicia\n",
            "^Z3QWT29... | Bobby\n",
            "^3CZ78B4... | Caro\n"
          ]
        }
      ],
      "source": [
        "t_updated_names = pw.debug.table_from_markdown(\n",
        "    \"\"\"\n",
        "    | name\n",
        " 1  | Alicia\n",
        " 2  | Bobby\n",
        " 3  | Caro\n",
        " \"\"\"\n",
        ")\n",
        "t_name.update_cells(t_updated_names)"
      ]
    },
    {
      "cell_type": "markdown",
      "id": "7685ce29",
      "metadata": {},
      "source": [
        "## Operations\n",
        "\n",
        "* **Row-centered operations** with [`pw.apply`](/developers/api-docs/pathway/#pathway.apply): you can apply a function to each value of a column (or more) by using `pw.apply` in a `select`."
      ]
    },
    {
      "cell_type": "code",
      "execution_count": 23,
      "id": "669c22e3",
      "metadata": {
        "execution": {
          "iopub.execute_input": "2024-04-24T04:33:54.392833Z",
          "iopub.status.busy": "2024-04-24T04:33:54.392657Z",
          "iopub.status.idle": "2024-04-24T04:33:54.401115Z",
          "shell.execute_reply": "2024-04-24T04:33:54.400868Z"
        }
      },
      "outputs": [
        {
          "name": "stderr",
          "output_type": "stream",
          "text": [
            "[2024-04-24T06:33:54]:INFO:Preparing Pathway computation\n"
          ]
        },
        {
          "name": "stdout",
          "output_type": "stream",
          "text": [
            "            | thirties\n",
            "^YYY4HAB... | False\n",
            "^3CZ78B4... | False\n",
            "^Z3QWT29... | True\n"
          ]
        }
      ],
      "source": [
        "t_age.select(thirties=pw.apply(lambda x: x>30, pw.this.age))"
      ]
    },
    {
      "cell_type": "markdown",
      "id": "ca9e9d40",
      "metadata": {},
      "source": [
        "Operations on multiples values of a single row can be easily done this way:"
      ]
    },
    {
      "cell_type": "code",
      "execution_count": 24,
      "id": "7db6b127",
      "metadata": {
        "execution": {
          "iopub.execute_input": "2024-04-24T04:33:54.402398Z",
          "iopub.status.busy": "2024-04-24T04:33:54.402194Z",
          "iopub.status.idle": "2024-04-24T04:33:54.414669Z",
          "shell.execute_reply": "2024-04-24T04:33:54.414472Z"
        }
      },
      "outputs": [
        {
          "name": "stderr",
          "output_type": "stream",
          "text": [
            "[2024-04-24T06:33:54]:INFO:Preparing Pathway computation\n"
          ]
        },
        {
          "name": "stdout",
          "output_type": "stream",
          "text": [
            "            | sum\n",
            "^YYY4HAB... | 11\n",
            "^Z3QWT29... | 1100\n"
          ]
        }
      ],
      "source": [
        "t_multiples_values = pw.debug.table_from_markdown(\n",
        "    \"\"\"\n",
        "    | valA    | valB\n",
        " 1  | 1       | 10\n",
        " 2  | 100     | 1000\n",
        " \"\"\"\n",
        ")\n",
        "t_multiples_values.select(sum=pw.apply(lambda x,y: x+y, pw.this.valA, pw.this.valB))"
      ]
    },
    {
      "cell_type": "markdown",
      "id": "612f8fd6",
      "metadata": {},
      "source": [
        "* Other operations with **transformer classes**: Pathway enables complex computation on data streams by using transformer classes.\n",
        "It is a bit advanced for this first-steps guide but you can find all the information about transformer classes in [our tutorial](/developers/user-guide/diving-deeper/transformer-introduction/)."
      ]
    }
  ],
  "metadata": {
    "jupytext": {
      "cell_metadata_filter": "-all",
      "main_language": "python",
      "notebook_metadata_filter": "-all"
    },
    "language_info": {
      "codemirror_mode": {
        "name": "ipython",
        "version": 3
      },
      "file_extension": ".py",
      "mimetype": "text/x-python",
      "name": "python",
      "nbconvert_exporter": "python",
      "pygments_lexer": "ipython3",
      "version": "3.11.8"
    }
  },
  "nbformat": 4,
  "nbformat_minor": 5
}