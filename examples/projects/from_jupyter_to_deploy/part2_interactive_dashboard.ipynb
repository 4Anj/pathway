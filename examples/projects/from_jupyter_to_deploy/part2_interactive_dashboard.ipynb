{
  "cells": [
    {
      "cell_type": "markdown",
      "metadata": {
        "id": "view-in-colab"
      },
      "source": [
        "<a href=\"https://colab.research.google.com/github/pathwaycom/pathway/blob/main/examples/projects/from_jupyter_to_deploy/part2_interactive_dashboard.ipynb\" target=\"_parent\"><img src=\"https://pathway.com/assets/colab-badge.svg\" alt=\"Run In Colab\" class=\"inline\"/></a>"
      ]
    },
    {
      "cell_type": "markdown",
      "source": [
        "# Installing Pathway with Python 3.10+\n",
        "\n",
        "In the cell below, we install Pathway into a Python 3.10+ Linux runtime.\n",
        "\n",
        "> **If you are running in Google Colab, please run the colab notebook (Ctrl+F9)**, disregarding the 'not authored by Google' warning.\n",
        "> \n",
        "> **The installation and loading time is less than 1 minute**.\n"
      ],
      "metadata": {
        "id": "notebook-instructions"
      }
    },
    {
      "cell_type": "code",
      "source": [
        "%%capture --no-display\n",
        "!pip install --prefer-binary pathway"
      ],
      "metadata": {
        "id": "pip-installation-pathway",
        "cellView": "form"
      },
      "execution_count": null,
      "outputs": []
    },
    {
      "cell_type": "markdown",
      "id": "369fb807",
      "metadata": {},
      "source": [
        "# Part 2: From static data exploration to interactive dashboard prototyping\n",
        "This notebook is part of the second part of the tutorial [From interactive data exploration to deployment](https://pathway.com/developers/user-guide/exploring-pathway/from-jupyter-to-deploy/#part-2-from-static-data-exploration-to-interactive-dashboard-prototyping)."
      ]
    },
    {
      "cell_type": "code",
      "execution_count": 1,
      "id": "4b9fda4c",
      "metadata": {
        "execution": {
          "iopub.execute_input": "2024-04-19T11:26:55.812200Z",
          "iopub.status.busy": "2024-04-19T11:26:55.812075Z",
          "iopub.status.idle": "2024-04-19T11:26:56.098937Z",
          "shell.execute_reply": "2024-04-19T11:26:56.098557Z"
        }
      },
      "outputs": [
        {
          "name": "stdout",
          "output_type": "stream",
          "text": [
            "--2024-04-19 13:26:55--  https://gist.githubusercontent.com/janchorowski/e351af72ecd8d206a34763a428826ab7/raw/ticker.csv\r\n"
          ]
        },
        {
          "name": "stdout",
          "output_type": "stream",
          "text": [
            "Resolving gist.githubusercontent.com (gist.githubusercontent.com)... 185.199.109.133, 185.199.111.133, 185.199.108.133, ...\r\n",
            "Connecting to gist.githubusercontent.com (gist.githubusercontent.com)|185.199.109.133|:443... connected.\r\n",
            "HTTP request sent, awaiting response... "
          ]
        },
        {
          "name": "stdout",
          "output_type": "stream",
          "text": [
            "200 OK\r\n",
            "Length: 1253370 (1.2M) [text/plain]\r\n",
            "Saving to: \u2018ticker.csv\u2019\r\n",
            "\r\n",
            "\r",
            "ticker.csv            0%[                    ]       0  --.-KB/s               \r",
            "ticker.csv          100%[===================>]   1.19M  --.-KB/s    in 0.02s   \r\n",
            "\r\n",
            "2024-04-19 13:26:55 (53.7 MB/s) - \u2018ticker.csv\u2019 saved [1253370/1253370]\r\n",
            "\r\n"
          ]
        }
      ],
      "source": [
        "# Download CSV file\n",
        "!wget -nc https://gist.githubusercontent.com/janchorowski/e351af72ecd8d206a34763a428826ab7/raw/ticker.csv"
      ]
    },
    {
      "cell_type": "markdown",
      "id": "886484ca",
      "metadata": {},
      "source": [
        "## Switching to streaming data"
      ]
    },
    {
      "cell_type": "code",
      "execution_count": 2,
      "id": "5dd55dbd",
      "metadata": {
        "execution": {
          "iopub.execute_input": "2024-04-19T11:26:56.101191Z",
          "iopub.status.busy": "2024-04-19T11:26:56.100961Z",
          "iopub.status.idle": "2024-04-19T11:27:02.299257Z",
          "shell.execute_reply": "2024-04-19T11:27:02.298790Z"
        }
      },
      "outputs": [],
      "source": [
        "import datetime\n",
        "\n",
        "import pathway as pw\n",
        "\n",
        "fname = \"ticker.csv\"\n",
        "schema = pw.schema_from_csv(fname)\n",
        "data = pw.demo.replay_csv(fname, schema=schema, input_rate=1000)"
      ]
    },
    {
      "cell_type": "code",
      "execution_count": 3,
      "id": "a0bcda29",
      "metadata": {
        "execution": {
          "iopub.execute_input": "2024-04-19T11:27:02.301673Z",
          "iopub.status.busy": "2024-04-19T11:27:02.301238Z",
          "iopub.status.idle": "2024-04-19T11:27:02.331741Z",
          "shell.execute_reply": "2024-04-19T11:27:02.331377Z"
        },
        "lines_to_next_cell": 2
      },
      "outputs": [],
      "source": [
        "data = data.with_columns(t=data.t.dt.utc_from_timestamp(unit=\"ms\"))"
      ]
    },
    {
      "cell_type": "markdown",
      "id": "666868d9",
      "metadata": {},
      "source": [
        "## Defining behaviors for streaming windows"
      ]
    },
    {
      "cell_type": "code",
      "execution_count": 4,
      "id": "f64d83fb",
      "metadata": {
        "execution": {
          "iopub.execute_input": "2024-04-19T11:27:02.333391Z",
          "iopub.status.busy": "2024-04-19T11:27:02.333140Z",
          "iopub.status.idle": "2024-04-19T11:27:02.657481Z",
          "shell.execute_reply": "2024-04-19T11:27:02.657151Z"
        }
      },
      "outputs": [],
      "source": [
        "minute_20_stats = (\n",
        "    data.windowby(\n",
        "        pw.this.t,\n",
        "        window=pw.temporal.sliding(\n",
        "            hop=datetime.timedelta(minutes=1), duration=datetime.timedelta(minutes=20)\n",
        "        ),\n",
        "        behavior=pw.temporal.exactly_once_behavior(),\n",
        "        instance=pw.this.ticker,\n",
        "    )\n",
        "    .reduce(\n",
        "        ticker=pw.this._pw_instance,\n",
        "        t=pw.this._pw_window_end,\n",
        "        volume=pw.reducers.sum(pw.this.volume),\n",
        "        transact_total=pw.reducers.sum(pw.this.volume * pw.this.vwap),\n",
        "        transact_total2=pw.reducers.sum(pw.this.volume * pw.this.vwap**2),\n",
        "    )\n",
        "    .with_columns(vwap=pw.this.transact_total / pw.this.volume)\n",
        "    .with_columns(\n",
        "        vwstd=(pw.this.transact_total2 / pw.this.volume - pw.this.vwap**2) ** 0.5\n",
        "    )\n",
        "    .with_columns(\n",
        "        bollinger_upper=pw.this.vwap + 2 * pw.this.vwstd,\n",
        "        bollinger_lower=pw.this.vwap - 2 * pw.this.vwstd,\n",
        "    )\n",
        ")"
      ]
    },
    {
      "cell_type": "code",
      "execution_count": 5,
      "id": "8a88eb88",
      "metadata": {
        "execution": {
          "iopub.execute_input": "2024-04-19T11:27:02.659846Z",
          "iopub.status.busy": "2024-04-19T11:27:02.659585Z",
          "iopub.status.idle": "2024-04-19T11:27:02.907621Z",
          "shell.execute_reply": "2024-04-19T11:27:02.907259Z"
        }
      },
      "outputs": [],
      "source": [
        "minute_1_stats = (\n",
        "    data.windowby(\n",
        "        pw.this.t,\n",
        "        window=pw.temporal.tumbling(datetime.timedelta(minutes=1)),\n",
        "        behavior=pw.temporal.exactly_once_behavior(),\n",
        "        instance=pw.this.ticker,\n",
        "    )\n",
        "    .reduce(\n",
        "        ticker=pw.this._pw_instance,\n",
        "        t=pw.this._pw_window_end,\n",
        "        volume=pw.reducers.sum(pw.this.volume),\n",
        "        transact_total=pw.reducers.sum(pw.this.volume * pw.this.vwap),\n",
        "    )\n",
        "    .with_columns(vwap=pw.this.transact_total / pw.this.volume)\n",
        ")"
      ]
    },
    {
      "cell_type": "code",
      "execution_count": 6,
      "id": "3f4f655f",
      "metadata": {
        "execution": {
          "iopub.execute_input": "2024-04-19T11:27:02.909505Z",
          "iopub.status.busy": "2024-04-19T11:27:02.909210Z",
          "iopub.status.idle": "2024-04-19T11:27:03.024028Z",
          "shell.execute_reply": "2024-04-19T11:27:03.023653Z"
        }
      },
      "outputs": [],
      "source": [
        "joint_stats = (\n",
        "    minute_1_stats.join(\n",
        "        minute_20_stats, pw.left.t == pw.right.t, pw.left.ticker == pw.right.ticker\n",
        "    )\n",
        "    .select(\n",
        "        *pw.left,\n",
        "        bollinger_lower=pw.right.bollinger_lower,\n",
        "        bollinger_upper=pw.right.bollinger_upper,\n",
        "    )\n",
        "    .with_columns(\n",
        "        is_alert=(\n",
        "            (pw.this.volume > 10000)\n",
        "            & (\n",
        "                (pw.this.vwap > pw.this.bollinger_upper)\n",
        "                | (pw.this.vwap < pw.this.bollinger_lower)\n",
        "            )\n",
        "        )\n",
        "    )\n",
        "    .with_columns(\n",
        "        action=pw.if_else(\n",
        "            pw.this.is_alert,\n",
        "            pw.if_else(pw.this.vwap > pw.this.bollinger_upper, \"sell\", \"buy\"),\n",
        "            \"hodl\",\n",
        "        )\n",
        "    )\n",
        ")"
      ]
    },
    {
      "cell_type": "code",
      "execution_count": 7,
      "id": "a6a187b6",
      "metadata": {
        "execution": {
          "iopub.execute_input": "2024-04-19T11:27:03.026014Z",
          "iopub.status.busy": "2024-04-19T11:27:03.025686Z",
          "iopub.status.idle": "2024-04-19T11:27:03.046704Z",
          "shell.execute_reply": "2024-04-19T11:27:03.046336Z"
        }
      },
      "outputs": [],
      "source": [
        "alerts = joint_stats.filter(pw.this.is_alert).select(\n",
        "    pw.this.ticker, pw.this.t, pw.this.vwap, pw.this.action\n",
        ")"
      ]
    },
    {
      "cell_type": "code",
      "execution_count": 8,
      "id": "5355285c",
      "metadata": {
        "execution": {
          "iopub.execute_input": "2024-04-19T11:27:03.048419Z",
          "iopub.status.busy": "2024-04-19T11:27:03.048160Z",
          "iopub.status.idle": "2024-04-19T11:27:03.051606Z",
          "shell.execute_reply": "2024-04-19T11:27:03.051280Z"
        }
      },
      "outputs": [],
      "source": [
        "import bokeh.models\n",
        "\n",
        "\n",
        "def stats_plotter(src):\n",
        "    actions = [\"buy\", \"sell\", \"hodl\"]\n",
        "    color_map = bokeh.models.CategoricalColorMapper(\n",
        "        factors=actions, palette=(\"#00ff00\", \"#ff0000\", \"#00000000\")\n",
        "    )\n",
        "\n",
        "    fig = bokeh.plotting.figure(\n",
        "        height=400,\n",
        "        width=600,\n",
        "        title=\"20 minutes Bollinger bands with last 1 minute average\",\n",
        "        x_axis_type=\"datetime\",\n",
        "    )\n",
        "\n",
        "    fig.line(\"t\", \"vwap\", source=src)\n",
        "\n",
        "    fig.line(\"t\", \"bollinger_lower\", source=src, line_alpha=0.3)\n",
        "    fig.line(\"t\", \"bollinger_upper\", source=src, line_alpha=0.3)\n",
        "    fig.varea(\n",
        "        x=\"t\",\n",
        "        y1=\"bollinger_lower\",\n",
        "        y2=\"bollinger_upper\",\n",
        "        fill_alpha=0.3,\n",
        "        fill_color=\"gray\",\n",
        "        source=src,\n",
        "    )\n",
        "\n",
        "    fig.scatter(\n",
        "        \"t\",\n",
        "        \"vwap\",\n",
        "        size=10,\n",
        "        marker=\"circle\",\n",
        "        color={\"field\": \"action\", \"transform\": color_map},\n",
        "        source=src,\n",
        "    )\n",
        "\n",
        "    return fig"
      ]
    },
    {
      "cell_type": "markdown",
      "id": "abd3118e",
      "metadata": {},
      "source": [
        "## Running the dashboard"
      ]
    },
    {
      "cell_type": "code",
      "execution_count": 9,
      "id": "30b40c0c",
      "metadata": {
        "execution": {
          "iopub.execute_input": "2024-04-19T11:27:03.053038Z",
          "iopub.status.busy": "2024-04-19T11:27:03.052782Z",
          "iopub.status.idle": "2024-04-19T11:27:03.670796Z",
          "shell.execute_reply": "2024-04-19T11:27:03.670341Z"
        }
      },
      "outputs": [],
      "source": [
        "import panel as pn\n",
        "\n",
        "viz = pn.Row(\n",
        "    joint_stats.plot(stats_plotter, sorting_col=\"t\"),\n",
        "    alerts.show(include_id=False, sorters=[{\"field\": \"t\", \"dir\": \"desc\"}]),\n",
        ")\n",
        "viz"
      ]
    },
    {
      "cell_type": "code",
      "execution_count": 10,
      "id": "4acdee43",
      "metadata": {
        "execution": {
          "iopub.execute_input": "2024-04-19T11:27:03.672878Z",
          "iopub.status.busy": "2024-04-19T11:27:03.672610Z",
          "iopub.status.idle": "2024-04-19T11:27:03.674499Z",
          "shell.execute_reply": "2024-04-19T11:27:03.674192Z"
        }
      },
      "outputs": [],
      "source": [
        "pw.run()"
      ]
    }
  ],
  "metadata": {
    "kernelspec": {
      "display_name": "Python 3 (ipykernel)",
      "language": "python",
      "name": "python3"
    },
    "language_info": {
      "codemirror_mode": {
        "name": "ipython",
        "version": 3
      },
      "file_extension": ".py",
      "mimetype": "text/x-python",
      "name": "python",
      "nbconvert_exporter": "python",
      "pygments_lexer": "ipython3",
      "version": "3.11.8"
    }
  },
  "nbformat": 4,
  "nbformat_minor": 5
}