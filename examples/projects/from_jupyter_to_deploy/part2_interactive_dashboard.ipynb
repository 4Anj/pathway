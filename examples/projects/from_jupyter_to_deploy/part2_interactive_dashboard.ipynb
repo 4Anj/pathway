{
  "cells": [
    {
      "cell_type": "markdown",
      "metadata": {
        "id": "view-in-colab"
      },
      "source": [
        "<a href=\"https://colab.research.google.com/github/pathwaycom/pathway/blob/main/examples/projects/from_jupyter_to_deploy/part2_interactive_dashboard.ipynb\" target=\"_parent\"><img src=\"https://pathway.com/assets/colab-badge.svg\" alt=\"Run In Colab\" class=\"inline\"/></a>"
      ]
    },
    {
      "cell_type": "markdown",
      "source": [
        "# Installing Pathway with Python 3.10+\n",
        "\n",
        "In the cell below, we install Pathway into a Python 3.10+ Linux runtime.\n",
        "\n",
        "> **If you are running in Google Colab, please run the colab notebook (Ctrl+F9)**, disregarding the 'not authored by Google' warning.\n",
        "> \n",
        "> **The installation and loading time is less than 1 minute**.\n"
      ],
      "metadata": {
        "id": "notebook-instructions"
      }
    },
    {
      "cell_type": "code",
      "source": [
        "%%capture --no-display\n",
        "!pip install --prefer-binary pathway"
      ],
      "metadata": {
        "id": "pip-installation-pathway",
        "cellView": "form"
      },
      "execution_count": null,
      "outputs": []
    },
    {
      "cell_type": "markdown",
      "id": "e7d9d6c1",
      "metadata": {},
      "source": [
        "# Part 2: From static data exploration to interactive dashboard prototyping\n",
        "This notebook is part of the second part of the tutorial [From interactive data exploration to deployment](https://pathway.com/developers/user-guide/exploring-pathway/from-jupyter-to-deploy/#part-2-from-static-data-exploration-to-interactive-dashboard-prototyping)."
      ]
    },
    {
      "cell_type": "code",
      "execution_count": 1,
      "id": "86d04997",
      "metadata": {
        "execution": {
          "iopub.execute_input": "2024-04-23T04:32:03.560498Z",
          "iopub.status.busy": "2024-04-23T04:32:03.560407Z",
          "iopub.status.idle": "2024-04-23T04:32:03.809350Z",
          "shell.execute_reply": "2024-04-23T04:32:03.809040Z"
        }
      },
      "outputs": [
        {
          "name": "stdout",
          "output_type": "stream",
          "text": [
            "--2024-04-23 06:32:03--  https://gist.githubusercontent.com/janchorowski/e351af72ecd8d206a34763a428826ab7/raw/ticker.csv\r\n"
          ]
        },
        {
          "name": "stdout",
          "output_type": "stream",
          "text": [
            "Resolving gist.githubusercontent.com (gist.githubusercontent.com)... 185.199.111.133, 185.199.110.133, 185.199.108.133, ...\r\n",
            "Connecting to gist.githubusercontent.com (gist.githubusercontent.com)|185.199.111.133|:443... connected.\r\n",
            "HTTP request sent, awaiting response... 200 OK\r\n",
            "Length: 1253370 (1.2M) [text/plain]\r\n",
            "Saving to: \u2018ticker.csv\u2019\r\n",
            "\r\n",
            "\r",
            "ticker.csv            0%[                    ]       0  --.-KB/s               "
          ]
        },
        {
          "name": "stdout",
          "output_type": "stream",
          "text": [
            "\r",
            "ticker.csv          100%[===================>]   1.19M  --.-KB/s    in 0.02s   \r\n",
            "\r\n",
            "2024-04-23 06:32:03 (49.2 MB/s) - \u2018ticker.csv\u2019 saved [1253370/1253370]\r\n",
            "\r\n"
          ]
        }
      ],
      "source": [
        "# Download CSV file\n",
        "!wget -nc https://gist.githubusercontent.com/janchorowski/e351af72ecd8d206a34763a428826ab7/raw/ticker.csv"
      ]
    },
    {
      "cell_type": "markdown",
      "id": "95ee64f4",
      "metadata": {},
      "source": [
        "## Switching to streaming data"
      ]
    },
    {
      "cell_type": "code",
      "execution_count": 2,
      "id": "cdaf91e2",
      "metadata": {
        "execution": {
          "iopub.execute_input": "2024-04-23T04:32:03.810777Z",
          "iopub.status.busy": "2024-04-23T04:32:03.810677Z",
          "iopub.status.idle": "2024-04-23T04:32:05.873048Z",
          "shell.execute_reply": "2024-04-23T04:32:05.872724Z"
        }
      },
      "outputs": [],
      "source": [
        "import datetime\n",
        "\n",
        "import pathway as pw\n",
        "\n",
        "fname = \"ticker.csv\"\n",
        "schema = pw.schema_from_csv(fname)\n",
        "data = pw.demo.replay_csv(fname, schema=schema, input_rate=1000)"
      ]
    },
    {
      "cell_type": "code",
      "execution_count": 3,
      "id": "c7452cec",
      "metadata": {
        "execution": {
          "iopub.execute_input": "2024-04-23T04:32:05.874806Z",
          "iopub.status.busy": "2024-04-23T04:32:05.874552Z",
          "iopub.status.idle": "2024-04-23T04:32:05.895268Z",
          "shell.execute_reply": "2024-04-23T04:32:05.895039Z"
        },
        "lines_to_next_cell": 2
      },
      "outputs": [],
      "source": [
        "data = data.with_columns(t=data.t.dt.utc_from_timestamp(unit=\"ms\"))"
      ]
    },
    {
      "cell_type": "markdown",
      "id": "d920a964",
      "metadata": {},
      "source": [
        "## Defining behaviors for streaming windows"
      ]
    },
    {
      "cell_type": "code",
      "execution_count": 4,
      "id": "19de2419",
      "metadata": {
        "execution": {
          "iopub.execute_input": "2024-04-23T04:32:05.896565Z",
          "iopub.status.busy": "2024-04-23T04:32:05.896457Z",
          "iopub.status.idle": "2024-04-23T04:32:06.244115Z",
          "shell.execute_reply": "2024-04-23T04:32:06.243830Z"
        }
      },
      "outputs": [],
      "source": [
        "minute_20_stats = (\n",
        "    data.windowby(\n",
        "        pw.this.t,\n",
        "        window=pw.temporal.sliding(\n",
        "            hop=datetime.timedelta(minutes=1), duration=datetime.timedelta(minutes=20)\n",
        "        ),\n",
        "        behavior=pw.temporal.exactly_once_behavior(),\n",
        "        instance=pw.this.ticker,\n",
        "    )\n",
        "    .reduce(\n",
        "        ticker=pw.this._pw_instance,\n",
        "        t=pw.this._pw_window_end,\n",
        "        volume=pw.reducers.sum(pw.this.volume),\n",
        "        transact_total=pw.reducers.sum(pw.this.volume * pw.this.vwap),\n",
        "        transact_total2=pw.reducers.sum(pw.this.volume * pw.this.vwap**2),\n",
        "    )\n",
        "    .with_columns(vwap=pw.this.transact_total / pw.this.volume)\n",
        "    .with_columns(\n",
        "        vwstd=(pw.this.transact_total2 / pw.this.volume - pw.this.vwap**2) ** 0.5\n",
        "    )\n",
        "    .with_columns(\n",
        "        bollinger_upper=pw.this.vwap + 2 * pw.this.vwstd,\n",
        "        bollinger_lower=pw.this.vwap - 2 * pw.this.vwstd,\n",
        "    )\n",
        ")"
      ]
    },
    {
      "cell_type": "code",
      "execution_count": 5,
      "id": "f9ce7450",
      "metadata": {
        "execution": {
          "iopub.execute_input": "2024-04-23T04:32:06.245718Z",
          "iopub.status.busy": "2024-04-23T04:32:06.245601Z",
          "iopub.status.idle": "2024-04-23T04:32:06.431188Z",
          "shell.execute_reply": "2024-04-23T04:32:06.430899Z"
        }
      },
      "outputs": [],
      "source": [
        "minute_1_stats = (\n",
        "    data.windowby(\n",
        "        pw.this.t,\n",
        "        window=pw.temporal.tumbling(datetime.timedelta(minutes=1)),\n",
        "        behavior=pw.temporal.exactly_once_behavior(),\n",
        "        instance=pw.this.ticker,\n",
        "    )\n",
        "    .reduce(\n",
        "        ticker=pw.this._pw_instance,\n",
        "        t=pw.this._pw_window_end,\n",
        "        volume=pw.reducers.sum(pw.this.volume),\n",
        "        transact_total=pw.reducers.sum(pw.this.volume * pw.this.vwap),\n",
        "    )\n",
        "    .with_columns(vwap=pw.this.transact_total / pw.this.volume)\n",
        ")"
      ]
    },
    {
      "cell_type": "code",
      "execution_count": 6,
      "id": "99b9d91c",
      "metadata": {
        "execution": {
          "iopub.execute_input": "2024-04-23T04:32:06.432516Z",
          "iopub.status.busy": "2024-04-23T04:32:06.432405Z",
          "iopub.status.idle": "2024-04-23T04:32:06.518748Z",
          "shell.execute_reply": "2024-04-23T04:32:06.518491Z"
        }
      },
      "outputs": [],
      "source": [
        "joint_stats = (\n",
        "    minute_1_stats.join(\n",
        "        minute_20_stats, pw.left.t == pw.right.t, pw.left.ticker == pw.right.ticker\n",
        "    )\n",
        "    .select(\n",
        "        *pw.left,\n",
        "        bollinger_lower=pw.right.bollinger_lower,\n",
        "        bollinger_upper=pw.right.bollinger_upper,\n",
        "    )\n",
        "    .with_columns(\n",
        "        is_alert=(\n",
        "            (pw.this.volume > 10000)\n",
        "            & (\n",
        "                (pw.this.vwap > pw.this.bollinger_upper)\n",
        "                | (pw.this.vwap < pw.this.bollinger_lower)\n",
        "            )\n",
        "        )\n",
        "    )\n",
        "    .with_columns(\n",
        "        action=pw.if_else(\n",
        "            pw.this.is_alert,\n",
        "            pw.if_else(pw.this.vwap > pw.this.bollinger_upper, \"sell\", \"buy\"),\n",
        "            \"hodl\",\n",
        "        )\n",
        "    )\n",
        ")"
      ]
    },
    {
      "cell_type": "code",
      "execution_count": 7,
      "id": "dd2bbb3b",
      "metadata": {
        "execution": {
          "iopub.execute_input": "2024-04-23T04:32:06.519981Z",
          "iopub.status.busy": "2024-04-23T04:32:06.519872Z",
          "iopub.status.idle": "2024-04-23T04:32:06.535950Z",
          "shell.execute_reply": "2024-04-23T04:32:06.535744Z"
        }
      },
      "outputs": [],
      "source": [
        "alerts = joint_stats.filter(pw.this.is_alert).select(\n",
        "    pw.this.ticker, pw.this.t, pw.this.vwap, pw.this.action\n",
        ")"
      ]
    },
    {
      "cell_type": "code",
      "execution_count": 8,
      "id": "340815c8",
      "metadata": {
        "execution": {
          "iopub.execute_input": "2024-04-23T04:32:06.537275Z",
          "iopub.status.busy": "2024-04-23T04:32:06.537057Z",
          "iopub.status.idle": "2024-04-23T04:32:06.539983Z",
          "shell.execute_reply": "2024-04-23T04:32:06.539766Z"
        }
      },
      "outputs": [],
      "source": [
        "import bokeh.models\n",
        "\n",
        "\n",
        "def stats_plotter(src):\n",
        "    actions = [\"buy\", \"sell\", \"hodl\"]\n",
        "    color_map = bokeh.models.CategoricalColorMapper(\n",
        "        factors=actions, palette=(\"#00ff00\", \"#ff0000\", \"#00000000\")\n",
        "    )\n",
        "\n",
        "    fig = bokeh.plotting.figure(\n",
        "        height=400,\n",
        "        width=600,\n",
        "        title=\"20 minutes Bollinger bands with last 1 minute average\",\n",
        "        x_axis_type=\"datetime\",\n",
        "    )\n",
        "\n",
        "    fig.line(\"t\", \"vwap\", source=src)\n",
        "\n",
        "    fig.line(\"t\", \"bollinger_lower\", source=src, line_alpha=0.3)\n",
        "    fig.line(\"t\", \"bollinger_upper\", source=src, line_alpha=0.3)\n",
        "    fig.varea(\n",
        "        x=\"t\",\n",
        "        y1=\"bollinger_lower\",\n",
        "        y2=\"bollinger_upper\",\n",
        "        fill_alpha=0.3,\n",
        "        fill_color=\"gray\",\n",
        "        source=src,\n",
        "    )\n",
        "\n",
        "    fig.scatter(\n",
        "        \"t\",\n",
        "        \"vwap\",\n",
        "        size=10,\n",
        "        marker=\"circle\",\n",
        "        color={\"field\": \"action\", \"transform\": color_map},\n",
        "        source=src,\n",
        "    )\n",
        "\n",
        "    return fig"
      ]
    },
    {
      "cell_type": "markdown",
      "id": "1225a34f",
      "metadata": {},
      "source": [
        "## Running the dashboard"
      ]
    },
    {
      "cell_type": "code",
      "execution_count": 9,
      "id": "55aa1ce1",
      "metadata": {
        "execution": {
          "iopub.execute_input": "2024-04-23T04:32:06.541204Z",
          "iopub.status.busy": "2024-04-23T04:32:06.541051Z",
          "iopub.status.idle": "2024-04-23T04:32:06.797352Z",
          "shell.execute_reply": "2024-04-23T04:32:06.797099Z"
        }
      },
      "outputs": [],
      "source": [
        "import panel as pn\n",
        "\n",
        "viz = pn.Row(\n",
        "    joint_stats.plot(stats_plotter, sorting_col=\"t\"),\n",
        "    alerts.show(include_id=False, sorters=[{\"field\": \"t\", \"dir\": \"desc\"}]),\n",
        ")\n",
        "viz"
      ]
    },
    {
      "cell_type": "code",
      "execution_count": 10,
      "id": "04486049",
      "metadata": {
        "execution": {
          "iopub.execute_input": "2024-04-23T04:32:06.798843Z",
          "iopub.status.busy": "2024-04-23T04:32:06.798729Z",
          "iopub.status.idle": "2024-04-23T04:32:06.800406Z",
          "shell.execute_reply": "2024-04-23T04:32:06.800185Z"
        }
      },
      "outputs": [],
      "source": [
        "pw.run()"
      ]
    }
  ],
  "metadata": {
    "kernelspec": {
      "display_name": "Python 3 (ipykernel)",
      "language": "python",
      "name": "python3"
    },
    "language_info": {
      "codemirror_mode": {
        "name": "ipython",
        "version": 3
      },
      "file_extension": ".py",
      "mimetype": "text/x-python",
      "name": "python",
      "nbconvert_exporter": "python",
      "pygments_lexer": "ipython3",
      "version": "3.11.8"
    }
  },
  "nbformat": 4,
  "nbformat_minor": 5
}